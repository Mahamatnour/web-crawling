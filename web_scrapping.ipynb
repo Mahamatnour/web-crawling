{
  "nbformat": 4,
  "nbformat_minor": 0,
  "metadata": {
    "colab": {
      "name": "web-scrapping.ipynb",
      "provenance": [],
      "toc_visible": true
    },
    "kernelspec": {
      "name": "python3",
      "display_name": "Python 3"
    },
    "accelerator": "GPU"
  },
  "cells": [
    {
      "cell_type": "markdown",
      "metadata": {
        "id": "qi38RKvtA_fF",
        "colab_type": "text"
      },
      "source": [
        "**Data Crawling Assesment from TM&RD**. \n",
        "\n",
        "###### Web Crawling is a term used to describe the use of a program or algorithm to extract and process large amounts of data from the web. Whether you are a data scientist, engineer, or anybody who analyzes large amounts of datasets"
      ]
    },
    {
      "cell_type": "markdown",
      "metadata": {
        "id": "xc1FTIUzBPUx",
        "colab_type": "text"
      },
      "source": [
        "#### Import the required package"
      ]
    },
    {
      "cell_type": "code",
      "metadata": {
        "id": "pP1L4tscRGLT",
        "colab_type": "code",
        "colab": {}
      },
      "source": [
        "import requests\n",
        "from bs4 import BeautifulSoup\n",
        "import pandas as pd\n",
        "import numpy as np\n",
        "import datetime \n",
        "import time \n"
      ],
      "execution_count": 0,
      "outputs": []
    },
    {
      "cell_type": "code",
      "metadata": {
        "id": "aw0MUz39RMfy",
        "colab_type": "code",
        "colab": {}
      },
      "source": [
        "titleList = []\n",
        "priceList = []\n",
        "areaList = []\n",
        "typesList = []\n",
        "sizeList = []\n",
        "bedroomList = []\n",
        "datesList =[]\n",
        "timesStampList = []"
      ],
      "execution_count": 0,
      "outputs": []
    },
    {
      "cell_type": "markdown",
      "metadata": {
        "id": "t6iiRBUHBvsI",
        "colab_type": "text"
      },
      "source": [
        "### For this assesment I'm crawling only the few pages of the web pages since. \n",
        "\n",
        "#### To scrape more we could increase the while loop to scrape more than 100 pages etc. "
      ]
    },
    {
      "cell_type": "code",
      "metadata": {
        "id": "95mhUJ1_RPDV",
        "colab_type": "code",
        "colab": {
          "base_uri": "https://localhost:8080/",
          "height": 272
        },
        "outputId": "338b52ce-1b0f-4fee-cca6-9203d86c82b3"
      },
      "source": [
        "i = 1\n",
        "\n",
        "url = \"https://www.mudah.my/Selangor/Apartments-for-sale-2020?lst=\" +str(i)+ \"&fs=1&w=108&cg=2020&so=1&st=s\"\n",
        "\n",
        "\n",
        "while i<=15:\n",
        "    \n",
        "    page = requests.get(url)\n",
        "    soup = BeautifulSoup(page.content, 'lxml')\n",
        "    \n",
        "    title = soup.find_all('h2', {'class':'list_title'})\n",
        "    price = soup.find_all('div', {'class':'ads_price'})\n",
        "    area = soup.find_all('div', {'class':'area'})\n",
        "    types = soup.find_all('div', {'class':'apartments'})\n",
        "    size = soup.find_all('div', {'class':'apartmentAndLandAndRoomsAndNew-Properties-size'})\n",
        "    bedroom = soup.find_all('div', {'class':'bedroom'})\n",
        "    dates = soup.find_all('div', {'class':'location bottom_info'})\n",
        "    timesstamp = soup.findAll('div', {'class':'_timestamp'})\n",
        "\n",
        "    timesstamp = [k.text for k in timesstamp]\n",
        "    timesstamp = timesstamp[:-1]\n",
        "    \n",
        "    title = [k.text for k in title]\n",
        "    title = title[:-1]\n",
        "    \n",
        "    price = [k.text for k in price]\n",
        "    price = price[:-1]\n",
        "    \n",
        "    area = [k.text for k in area]\n",
        "    area = area[:-1]\n",
        "    \n",
        "    types = [k.text for k in types]\n",
        "    types = types[:-1]\n",
        "    \n",
        "    size = [k.text for k in size]\n",
        "    size = size[:-1]\n",
        "    \n",
        "    bedroom = [k.text for k in bedroom]\n",
        "    bedroom = bedroom[:-1]\n",
        "    \n",
        "    dates = [k.text for k in dates]\n",
        "    dates = dates[:-1]\n",
        "    \n",
        "    titleList += title\n",
        "    priceList += price\n",
        "    areaList += area\n",
        "    typesList += types\n",
        "    sizeList += size\n",
        "    bedroomList += bedroom\n",
        "    datesList += dates\n",
        "    \n",
        "    print(\"number of pages that been scraped : \", i)\n",
        "    i = i+1\n"
      ],
      "execution_count": 3,
      "outputs": [
        {
          "output_type": "stream",
          "text": [
            "number of pages that been scraped :  1\n",
            "number of pages that been scraped :  2\n",
            "number of pages that been scraped :  3\n",
            "number of pages that been scraped :  4\n",
            "number of pages that been scraped :  5\n",
            "number of pages that been scraped :  6\n",
            "number of pages that been scraped :  7\n",
            "number of pages that been scraped :  8\n",
            "number of pages that been scraped :  9\n",
            "number of pages that been scraped :  10\n",
            "number of pages that been scraped :  11\n",
            "number of pages that been scraped :  12\n",
            "number of pages that been scraped :  13\n",
            "number of pages that been scraped :  14\n",
            "number of pages that been scraped :  15\n"
          ],
          "name": "stdout"
        }
      ]
    },
    {
      "cell_type": "code",
      "metadata": {
        "id": "sV_7QSIDRSuS",
        "colab_type": "code",
        "colab": {
          "base_uri": "https://localhost:8080/",
          "height": 136
        },
        "outputId": "28c7421c-132a-478f-9b5e-863e40778828"
      },
      "source": [
        "df_title = pd.DataFrame()\n",
        "df_price = pd.DataFrame()\n",
        "df_area = pd.DataFrame()\n",
        "df_types = pd.DataFrame()\n",
        "df_size = pd.DataFrame()\n",
        "df_bedroom = pd.DataFrame()\n",
        "df_dates = pd.DataFrame()\n",
        "\n",
        "print(len(titleList))\n",
        "print(len(priceList))\n",
        "print(len(areaList))\n",
        "print(len(typesList))\n",
        "print(len(sizeList))\n",
        "print(len(bedroom))\n",
        "print(len(datesList))\n",
        "\n",
        "\n",
        "df_dates['Date'] = datesList\n",
        "df_area['Area'] = areaList\n",
        "df_title['Title'] = titleList\n",
        "df_types['Type'] = typesList\n",
        "df_bedroom['Bedroom'] = bedroomList\n",
        "df_size['Size'] = sizeList\n",
        "df_price['Price'] = priceList"
      ],
      "execution_count": 4,
      "outputs": [
        {
          "output_type": "stream",
          "text": [
            "600\n",
            "600\n",
            "585\n",
            "630\n",
            "630\n",
            "42\n",
            "600\n"
          ],
          "name": "stdout"
        }
      ]
    },
    {
      "cell_type": "code",
      "metadata": {
        "id": "saoYsDgPRVAf",
        "colab_type": "code",
        "colab": {
          "base_uri": "https://localhost:8080/",
          "height": 529
        },
        "outputId": "1be8aa19-9541-4a5f-be16-a7464780caf4"
      },
      "source": [
        "df_apartements = pd.concat([df_dates, df_area, df_title,df_types, df_bedroom, df_size, df_price ], axis=1)\n",
        "df_apartements.head(10)"
      ],
      "execution_count": 5,
      "outputs": [
        {
          "output_type": "execute_result",
          "data": {
            "text/html": [
              "<div>\n",
              "<style scoped>\n",
              "    .dataframe tbody tr th:only-of-type {\n",
              "        vertical-align: middle;\n",
              "    }\n",
              "\n",
              "    .dataframe tbody tr th {\n",
              "        vertical-align: top;\n",
              "    }\n",
              "\n",
              "    .dataframe thead th {\n",
              "        text-align: right;\n",
              "    }\n",
              "</style>\n",
              "<table border=\"1\" class=\"dataframe\">\n",
              "  <thead>\n",
              "    <tr style=\"text-align: right;\">\n",
              "      <th></th>\n",
              "      <th>Date</th>\n",
              "      <th>Area</th>\n",
              "      <th>Title</th>\n",
              "      <th>Type</th>\n",
              "      <th>Bedroom</th>\n",
              "      <th>Size</th>\n",
              "      <th>Price</th>\n",
              "    </tr>\n",
              "  </thead>\n",
              "  <tbody>\n",
              "    <tr>\n",
              "      <th>0</th>\n",
              "      <td>Today, 01:55   Sepang</td>\n",
              "      <td>Sepang</td>\n",
              "      <td>Flat dahlia, taman dahlia, bandar baru salak...</td>\n",
              "      <td>Apartments</td>\n",
              "      <td>3 Bedrooms</td>\n",
              "      <td>651 sq.ft</td>\n",
              "      <td>RM 120 000</td>\n",
              "    </tr>\n",
              "    <tr>\n",
              "      <th>1</th>\n",
              "      <td>Today, 01:45   Sepang</td>\n",
              "      <td>Sepang</td>\n",
              "      <td>Sepang Best Selling Condo Near KLIA! Call Me!</td>\n",
              "      <td>Apartments</td>\n",
              "      <td>3 Bedrooms</td>\n",
              "      <td>660 sq.ft</td>\n",
              "      <td>RM 238 000</td>\n",
              "    </tr>\n",
              "    <tr>\n",
              "      <th>2</th>\n",
              "      <td>Today, 01:45   Petaling Jaya</td>\n",
              "      <td>Petaling Jaya</td>\n",
              "      <td>Paradesa Rustica Condominium</td>\n",
              "      <td>Apartments</td>\n",
              "      <td>3 Bedrooms</td>\n",
              "      <td>1045 sq.ft</td>\n",
              "      <td>RM 509 999</td>\n",
              "    </tr>\n",
              "    <tr>\n",
              "      <th>3</th>\n",
              "      <td>Today, 01:40   Cyberjaya</td>\n",
              "      <td>Cyberjaya</td>\n",
              "      <td>Best Investment at Cybersouth! Hot Selling !...</td>\n",
              "      <td>Apartments</td>\n",
              "      <td>3 Bedrooms</td>\n",
              "      <td>660 sq.ft</td>\n",
              "      <td>RM 238 000</td>\n",
              "    </tr>\n",
              "    <tr>\n",
              "      <th>4</th>\n",
              "      <td>Today, 01:05   Petaling Jaya</td>\n",
              "      <td>Petaling Jaya</td>\n",
              "      <td>100% Loan , Free MOT , 1km to Jaya33 , Unive...</td>\n",
              "      <td>Apartments</td>\n",
              "      <td>2 Bedrooms</td>\n",
              "      <td>750 sq.ft</td>\n",
              "      <td>RM 498 000</td>\n",
              "    </tr>\n",
              "    <tr>\n",
              "      <th>5</th>\n",
              "      <td>Today, 01:05   Petaling Jaya</td>\n",
              "      <td>Petaling Jaya</td>\n",
              "      <td>First Home Buyer , Free MOT , 100% Loan + Fr...</td>\n",
              "      <td>Apartments</td>\n",
              "      <td>3 Bedrooms</td>\n",
              "      <td>850 sq.ft</td>\n",
              "      <td>RM 570 000</td>\n",
              "    </tr>\n",
              "    <tr>\n",
              "      <th>6</th>\n",
              "      <td>Today, 00:41   Bandar Sunway</td>\n",
              "      <td>Bandar Sunway</td>\n",
              "      <td>Bandar sunway, sri subang apartment, tingkat...</td>\n",
              "      <td>Apartments</td>\n",
              "      <td>3 Bedrooms</td>\n",
              "      <td>785 sq.ft</td>\n",
              "      <td>RM 220 000</td>\n",
              "    </tr>\n",
              "    <tr>\n",
              "      <th>7</th>\n",
              "      <td>Today, 00:41   Puchong</td>\n",
              "      <td>Puchong</td>\n",
              "      <td>KENANGA APARTMENT,TAMAN PUTRA PERDANA,ground...</td>\n",
              "      <td>Apartments</td>\n",
              "      <td>3 Bedrooms</td>\n",
              "      <td>800 sq.ft</td>\n",
              "      <td>RM 205 000</td>\n",
              "    </tr>\n",
              "    <tr>\n",
              "      <th>8</th>\n",
              "      <td>Today, 00:16   Bangi</td>\n",
              "      <td>Bangi</td>\n",
              "      <td>Dual entrance freehold bumi apt miro tmn put...</td>\n",
              "      <td>Apartments</td>\n",
              "      <td>4 Bedrooms</td>\n",
              "      <td>1200 sq.ft</td>\n",
              "      <td>RM 299 000</td>\n",
              "    </tr>\n",
              "    <tr>\n",
              "      <th>9</th>\n",
              "      <td>Today, 00:07   USJ</td>\n",
              "      <td>USJ</td>\n",
              "      <td>Da men residence usj 1 subang jaya</td>\n",
              "      <td>Apartments</td>\n",
              "      <td>2 Bedrooms</td>\n",
              "      <td>1013 sq.ft</td>\n",
              "      <td>RM 650 000</td>\n",
              "    </tr>\n",
              "  </tbody>\n",
              "</table>\n",
              "</div>"
            ],
            "text/plain": [
              "                                Date             Area  ...        Size         Price\n",
              "0           Today, 01:55   Sepang             Sepang   ...   651 sq.ft   RM 120 000 \n",
              "1           Today, 01:45   Sepang             Sepang   ...   660 sq.ft   RM 238 000 \n",
              "2    Today, 01:45   Petaling Jaya      Petaling Jaya   ...  1045 sq.ft   RM 509 999 \n",
              "3        Today, 01:40   Cyberjaya          Cyberjaya   ...   660 sq.ft   RM 238 000 \n",
              "4    Today, 01:05   Petaling Jaya      Petaling Jaya   ...   750 sq.ft   RM 498 000 \n",
              "5    Today, 01:05   Petaling Jaya      Petaling Jaya   ...   850 sq.ft   RM 570 000 \n",
              "6    Today, 00:41   Bandar Sunway      Bandar Sunway   ...   785 sq.ft   RM 220 000 \n",
              "7          Today, 00:41   Puchong            Puchong   ...   800 sq.ft   RM 205 000 \n",
              "8            Today, 00:16   Bangi              Bangi   ...  1200 sq.ft   RM 299 000 \n",
              "9              Today, 00:07   USJ                USJ   ...  1013 sq.ft   RM 650 000 \n",
              "\n",
              "[10 rows x 7 columns]"
            ]
          },
          "metadata": {
            "tags": []
          },
          "execution_count": 5
        }
      ]
    },
    {
      "cell_type": "code",
      "metadata": {
        "id": "pliPClgnRXkc",
        "colab_type": "code",
        "colab": {
          "base_uri": "https://localhost:8080/",
          "height": 153
        },
        "outputId": "4655149e-6b28-468a-d6de-e848aeaff6a5"
      },
      "source": [
        "df_apartements.isnull().sum()\n"
      ],
      "execution_count": 6,
      "outputs": [
        {
          "output_type": "execute_result",
          "data": {
            "text/plain": [
              "Date       30\n",
              "Area       45\n",
              "Title      30\n",
              "Type        0\n",
              "Bedroom     0\n",
              "Size        0\n",
              "Price      30\n",
              "dtype: int64"
            ]
          },
          "metadata": {
            "tags": []
          },
          "execution_count": 6
        }
      ]
    },
    {
      "cell_type": "code",
      "metadata": {
        "id": "qC-VNDaORY8I",
        "colab_type": "code",
        "colab": {
          "base_uri": "https://localhost:8080/",
          "height": 34
        },
        "outputId": "c14bb165-9c6e-4d62-979d-42632f8f3718"
      },
      "source": [
        "df_apartements.dropna(inplace= True)\n",
        "df_apartements.shape"
      ],
      "execution_count": 7,
      "outputs": [
        {
          "output_type": "execute_result",
          "data": {
            "text/plain": [
              "(585, 7)"
            ]
          },
          "metadata": {
            "tags": []
          },
          "execution_count": 7
        }
      ]
    },
    {
      "cell_type": "code",
      "metadata": {
        "id": "fbceDgGDRaUO",
        "colab_type": "code",
        "colab": {
          "base_uri": "https://localhost:8080/",
          "height": 589
        },
        "outputId": "79a5ac44-ca97-4cca-f0c4-f2c330ee0cf4"
      },
      "source": [
        "df_apartements"
      ],
      "execution_count": 8,
      "outputs": [
        {
          "output_type": "execute_result",
          "data": {
            "text/html": [
              "<div>\n",
              "<style scoped>\n",
              "    .dataframe tbody tr th:only-of-type {\n",
              "        vertical-align: middle;\n",
              "    }\n",
              "\n",
              "    .dataframe tbody tr th {\n",
              "        vertical-align: top;\n",
              "    }\n",
              "\n",
              "    .dataframe thead th {\n",
              "        text-align: right;\n",
              "    }\n",
              "</style>\n",
              "<table border=\"1\" class=\"dataframe\">\n",
              "  <thead>\n",
              "    <tr style=\"text-align: right;\">\n",
              "      <th></th>\n",
              "      <th>Date</th>\n",
              "      <th>Area</th>\n",
              "      <th>Title</th>\n",
              "      <th>Type</th>\n",
              "      <th>Bedroom</th>\n",
              "      <th>Size</th>\n",
              "      <th>Price</th>\n",
              "    </tr>\n",
              "  </thead>\n",
              "  <tbody>\n",
              "    <tr>\n",
              "      <th>0</th>\n",
              "      <td>Today, 01:55   Sepang</td>\n",
              "      <td>Sepang</td>\n",
              "      <td>Flat dahlia, taman dahlia, bandar baru salak...</td>\n",
              "      <td>Apartments</td>\n",
              "      <td>3 Bedrooms</td>\n",
              "      <td>651 sq.ft</td>\n",
              "      <td>RM 120 000</td>\n",
              "    </tr>\n",
              "    <tr>\n",
              "      <th>1</th>\n",
              "      <td>Today, 01:45   Sepang</td>\n",
              "      <td>Sepang</td>\n",
              "      <td>Sepang Best Selling Condo Near KLIA! Call Me!</td>\n",
              "      <td>Apartments</td>\n",
              "      <td>3 Bedrooms</td>\n",
              "      <td>660 sq.ft</td>\n",
              "      <td>RM 238 000</td>\n",
              "    </tr>\n",
              "    <tr>\n",
              "      <th>2</th>\n",
              "      <td>Today, 01:45   Petaling Jaya</td>\n",
              "      <td>Petaling Jaya</td>\n",
              "      <td>Paradesa Rustica Condominium</td>\n",
              "      <td>Apartments</td>\n",
              "      <td>3 Bedrooms</td>\n",
              "      <td>1045 sq.ft</td>\n",
              "      <td>RM 509 999</td>\n",
              "    </tr>\n",
              "    <tr>\n",
              "      <th>3</th>\n",
              "      <td>Today, 01:40   Cyberjaya</td>\n",
              "      <td>Cyberjaya</td>\n",
              "      <td>Best Investment at Cybersouth! Hot Selling !...</td>\n",
              "      <td>Apartments</td>\n",
              "      <td>3 Bedrooms</td>\n",
              "      <td>660 sq.ft</td>\n",
              "      <td>RM 238 000</td>\n",
              "    </tr>\n",
              "    <tr>\n",
              "      <th>4</th>\n",
              "      <td>Today, 01:05   Petaling Jaya</td>\n",
              "      <td>Petaling Jaya</td>\n",
              "      <td>100% Loan , Free MOT , 1km to Jaya33 , Unive...</td>\n",
              "      <td>Apartments</td>\n",
              "      <td>2 Bedrooms</td>\n",
              "      <td>750 sq.ft</td>\n",
              "      <td>RM 498 000</td>\n",
              "    </tr>\n",
              "    <tr>\n",
              "      <th>...</th>\n",
              "      <td>...</td>\n",
              "      <td>...</td>\n",
              "      <td>...</td>\n",
              "      <td>...</td>\n",
              "      <td>...</td>\n",
              "      <td>...</td>\n",
              "      <td>...</td>\n",
              "    </tr>\n",
              "    <tr>\n",
              "      <th>580</th>\n",
              "      <td>Yesterday, 21:45   Shah Alam</td>\n",
              "      <td>Shah Alam</td>\n",
              "      <td>Apartment Desa Subang, Jalan Waruna, Seksyen...</td>\n",
              "      <td>Apartments</td>\n",
              "      <td>3 Bedrooms</td>\n",
              "      <td>603 sq.ft</td>\n",
              "      <td>RM 190 000</td>\n",
              "    </tr>\n",
              "    <tr>\n",
              "      <th>581</th>\n",
              "      <td>Yesterday, 21:45   Shah Alam</td>\n",
              "      <td>Shah Alam</td>\n",
              "      <td>Apartment Service Menara U2, Seksyen 13, Sha...</td>\n",
              "      <td>Apartments</td>\n",
              "      <td>2 Bedrooms</td>\n",
              "      <td>516 sq.ft</td>\n",
              "      <td>RM 261 000</td>\n",
              "    </tr>\n",
              "    <tr>\n",
              "      <th>582</th>\n",
              "      <td>Yesterday, 21:42   Semenyih</td>\n",
              "      <td>Seri Kembangan</td>\n",
              "      <td>[FREEHOLD] New D'Cassia Apartment Ecohill Se...</td>\n",
              "      <td>Apartments</td>\n",
              "      <td>2 Bedrooms</td>\n",
              "      <td>800 sq.ft</td>\n",
              "      <td>RM 265 000</td>\n",
              "    </tr>\n",
              "    <tr>\n",
              "      <th>583</th>\n",
              "      <td>Yesterday, 21:40   Kajang</td>\n",
              "      <td>Shah Alam</td>\n",
              "      <td>Flat Jalan Kajang Perdana 2, Kajang Perdana,...</td>\n",
              "      <td>Apartments</td>\n",
              "      <td>3 Bedrooms</td>\n",
              "      <td>811 sq.ft</td>\n",
              "      <td>RM 120 000</td>\n",
              "    </tr>\n",
              "    <tr>\n",
              "      <th>584</th>\n",
              "      <td>Yesterday, 21:40   Seri Kembangan</td>\n",
              "      <td>Bukit Jelutong</td>\n",
              "      <td>Apartment Taman Desaminium, Lestari Perdana,...</td>\n",
              "      <td>Apartments</td>\n",
              "      <td>2 Bedrooms</td>\n",
              "      <td>660 sq.ft</td>\n",
              "      <td>RM 230 000</td>\n",
              "    </tr>\n",
              "  </tbody>\n",
              "</table>\n",
              "<p>585 rows × 7 columns</p>\n",
              "</div>"
            ],
            "text/plain": [
              "                                       Date  ...         Price\n",
              "0                  Today, 01:55   Sepang     ...   RM 120 000 \n",
              "1                  Today, 01:45   Sepang     ...   RM 238 000 \n",
              "2           Today, 01:45   Petaling Jaya     ...   RM 509 999 \n",
              "3               Today, 01:40   Cyberjaya     ...   RM 238 000 \n",
              "4           Today, 01:05   Petaling Jaya     ...   RM 498 000 \n",
              "..                                      ...  ...           ...\n",
              "580         Yesterday, 21:45   Shah Alam     ...   RM 190 000 \n",
              "581         Yesterday, 21:45   Shah Alam     ...   RM 261 000 \n",
              "582          Yesterday, 21:42   Semenyih     ...   RM 265 000 \n",
              "583            Yesterday, 21:40   Kajang     ...   RM 120 000 \n",
              "584    Yesterday, 21:40   Seri Kembangan     ...   RM 230 000 \n",
              "\n",
              "[585 rows x 7 columns]"
            ]
          },
          "metadata": {
            "tags": []
          },
          "execution_count": 8
        }
      ]
    },
    {
      "cell_type": "code",
      "metadata": {
        "id": "B_z7J8w9RbhV",
        "colab_type": "code",
        "colab": {}
      },
      "source": [
        "#df_apartements.to_csv('datasets/exportDataFrames.csv', index=False, header=True)"
      ],
      "execution_count": 0,
      "outputs": []
    },
    {
      "cell_type": "code",
      "metadata": {
        "id": "SXVevPpqSuaG",
        "colab_type": "code",
        "colab": {
          "base_uri": "https://localhost:8080/",
          "height": 153
        },
        "outputId": "cefe3591-98b4-4ab9-9d5f-3a28ae19ec65"
      },
      "source": [
        "df_apartements.isnull().sum()\n"
      ],
      "execution_count": 10,
      "outputs": [
        {
          "output_type": "execute_result",
          "data": {
            "text/plain": [
              "Date       0\n",
              "Area       0\n",
              "Title      0\n",
              "Type       0\n",
              "Bedroom    0\n",
              "Size       0\n",
              "Price      0\n",
              "dtype: int64"
            ]
          },
          "metadata": {
            "tags": []
          },
          "execution_count": 10
        }
      ]
    },
    {
      "cell_type": "code",
      "metadata": {
        "id": "U-sgvBNGSuRT",
        "colab_type": "code",
        "colab": {
          "base_uri": "https://localhost:8080/",
          "height": 153
        },
        "outputId": "4c5cc67b-d71d-47e2-907b-aa2f3bd2a7e4"
      },
      "source": [
        "df_apartements.isna().sum()\n"
      ],
      "execution_count": 11,
      "outputs": [
        {
          "output_type": "execute_result",
          "data": {
            "text/plain": [
              "Date       0\n",
              "Area       0\n",
              "Title      0\n",
              "Type       0\n",
              "Bedroom    0\n",
              "Size       0\n",
              "Price      0\n",
              "dtype: int64"
            ]
          },
          "metadata": {
            "tags": []
          },
          "execution_count": 11
        }
      ]
    },
    {
      "cell_type": "code",
      "metadata": {
        "id": "j3kR9m9tSuEs",
        "colab_type": "code",
        "colab": {
          "base_uri": "https://localhost:8080/",
          "height": 153
        },
        "outputId": "c76462b8-3216-4940-d971-f281be0c2015"
      },
      "source": [
        "df_apartements.isna().any()\n"
      ],
      "execution_count": 12,
      "outputs": [
        {
          "output_type": "execute_result",
          "data": {
            "text/plain": [
              "Date       False\n",
              "Area       False\n",
              "Title      False\n",
              "Type       False\n",
              "Bedroom    False\n",
              "Size       False\n",
              "Price      False\n",
              "dtype: bool"
            ]
          },
          "metadata": {
            "tags": []
          },
          "execution_count": 12
        }
      ]
    },
    {
      "cell_type": "code",
      "metadata": {
        "id": "LSPcG8z_S-Oy",
        "colab_type": "code",
        "colab": {
          "base_uri": "https://localhost:8080/",
          "height": 34
        },
        "outputId": "1be7f834-ddc4-41e5-87d8-ea63dfbafd6c"
      },
      "source": [
        "df_apartements.isna().any(axis = None)"
      ],
      "execution_count": 13,
      "outputs": [
        {
          "output_type": "execute_result",
          "data": {
            "text/plain": [
              "False"
            ]
          },
          "metadata": {
            "tags": []
          },
          "execution_count": 13
        }
      ]
    },
    {
      "cell_type": "code",
      "metadata": {
        "id": "xEyK5iuIS-Ba",
        "colab_type": "code",
        "colab": {
          "base_uri": "https://localhost:8080/",
          "height": 221
        },
        "outputId": "3dd0cc80-670f-47f6-fc35-7e022b459ed9"
      },
      "source": [
        "df_apartements['Date'][1:]"
      ],
      "execution_count": 14,
      "outputs": [
        {
          "output_type": "execute_result",
          "data": {
            "text/plain": [
              "1                    Today, 01:45   Sepang   \n",
              "2             Today, 01:45   Petaling Jaya   \n",
              "3                 Today, 01:40   Cyberjaya   \n",
              "4             Today, 01:05   Petaling Jaya   \n",
              "5             Today, 01:05   Petaling Jaya   \n",
              "                        ...                  \n",
              "580           Yesterday, 21:45   Shah Alam   \n",
              "581           Yesterday, 21:45   Shah Alam   \n",
              "582            Yesterday, 21:42   Semenyih   \n",
              "583              Yesterday, 21:40   Kajang   \n",
              "584      Yesterday, 21:40   Seri Kembangan   \n",
              "Name: Date, Length: 584, dtype: object"
            ]
          },
          "metadata": {
            "tags": []
          },
          "execution_count": 14
        }
      ]
    },
    {
      "cell_type": "code",
      "metadata": {
        "id": "b9BId6fiSI7s",
        "colab_type": "code",
        "colab": {
          "base_uri": "https://localhost:8080/",
          "height": 419
        },
        "outputId": "5807b2a4-5867-4e88-d3e9-c25d86a46763"
      },
      "source": [
        "df_apartements[\"Date\"] = df_apartements[\"Date\"].str.split(n = 1).str[0]\n",
        "#df_apartements[\"dates\"] = df_apartements[\"Date\"].str.split(n = 1).str[1]\n",
        "df_apartements\n"
      ],
      "execution_count": 15,
      "outputs": [
        {
          "output_type": "execute_result",
          "data": {
            "text/html": [
              "<div>\n",
              "<style scoped>\n",
              "    .dataframe tbody tr th:only-of-type {\n",
              "        vertical-align: middle;\n",
              "    }\n",
              "\n",
              "    .dataframe tbody tr th {\n",
              "        vertical-align: top;\n",
              "    }\n",
              "\n",
              "    .dataframe thead th {\n",
              "        text-align: right;\n",
              "    }\n",
              "</style>\n",
              "<table border=\"1\" class=\"dataframe\">\n",
              "  <thead>\n",
              "    <tr style=\"text-align: right;\">\n",
              "      <th></th>\n",
              "      <th>Date</th>\n",
              "      <th>Area</th>\n",
              "      <th>Title</th>\n",
              "      <th>Type</th>\n",
              "      <th>Bedroom</th>\n",
              "      <th>Size</th>\n",
              "      <th>Price</th>\n",
              "    </tr>\n",
              "  </thead>\n",
              "  <tbody>\n",
              "    <tr>\n",
              "      <th>0</th>\n",
              "      <td>Today,</td>\n",
              "      <td>Sepang</td>\n",
              "      <td>Flat dahlia, taman dahlia, bandar baru salak...</td>\n",
              "      <td>Apartments</td>\n",
              "      <td>3 Bedrooms</td>\n",
              "      <td>651 sq.ft</td>\n",
              "      <td>RM 120 000</td>\n",
              "    </tr>\n",
              "    <tr>\n",
              "      <th>1</th>\n",
              "      <td>Today,</td>\n",
              "      <td>Sepang</td>\n",
              "      <td>Sepang Best Selling Condo Near KLIA! Call Me!</td>\n",
              "      <td>Apartments</td>\n",
              "      <td>3 Bedrooms</td>\n",
              "      <td>660 sq.ft</td>\n",
              "      <td>RM 238 000</td>\n",
              "    </tr>\n",
              "    <tr>\n",
              "      <th>2</th>\n",
              "      <td>Today,</td>\n",
              "      <td>Petaling Jaya</td>\n",
              "      <td>Paradesa Rustica Condominium</td>\n",
              "      <td>Apartments</td>\n",
              "      <td>3 Bedrooms</td>\n",
              "      <td>1045 sq.ft</td>\n",
              "      <td>RM 509 999</td>\n",
              "    </tr>\n",
              "    <tr>\n",
              "      <th>3</th>\n",
              "      <td>Today,</td>\n",
              "      <td>Cyberjaya</td>\n",
              "      <td>Best Investment at Cybersouth! Hot Selling !...</td>\n",
              "      <td>Apartments</td>\n",
              "      <td>3 Bedrooms</td>\n",
              "      <td>660 sq.ft</td>\n",
              "      <td>RM 238 000</td>\n",
              "    </tr>\n",
              "    <tr>\n",
              "      <th>4</th>\n",
              "      <td>Today,</td>\n",
              "      <td>Petaling Jaya</td>\n",
              "      <td>100% Loan , Free MOT , 1km to Jaya33 , Unive...</td>\n",
              "      <td>Apartments</td>\n",
              "      <td>2 Bedrooms</td>\n",
              "      <td>750 sq.ft</td>\n",
              "      <td>RM 498 000</td>\n",
              "    </tr>\n",
              "    <tr>\n",
              "      <th>...</th>\n",
              "      <td>...</td>\n",
              "      <td>...</td>\n",
              "      <td>...</td>\n",
              "      <td>...</td>\n",
              "      <td>...</td>\n",
              "      <td>...</td>\n",
              "      <td>...</td>\n",
              "    </tr>\n",
              "    <tr>\n",
              "      <th>580</th>\n",
              "      <td>Yesterday,</td>\n",
              "      <td>Shah Alam</td>\n",
              "      <td>Apartment Desa Subang, Jalan Waruna, Seksyen...</td>\n",
              "      <td>Apartments</td>\n",
              "      <td>3 Bedrooms</td>\n",
              "      <td>603 sq.ft</td>\n",
              "      <td>RM 190 000</td>\n",
              "    </tr>\n",
              "    <tr>\n",
              "      <th>581</th>\n",
              "      <td>Yesterday,</td>\n",
              "      <td>Shah Alam</td>\n",
              "      <td>Apartment Service Menara U2, Seksyen 13, Sha...</td>\n",
              "      <td>Apartments</td>\n",
              "      <td>2 Bedrooms</td>\n",
              "      <td>516 sq.ft</td>\n",
              "      <td>RM 261 000</td>\n",
              "    </tr>\n",
              "    <tr>\n",
              "      <th>582</th>\n",
              "      <td>Yesterday,</td>\n",
              "      <td>Seri Kembangan</td>\n",
              "      <td>[FREEHOLD] New D'Cassia Apartment Ecohill Se...</td>\n",
              "      <td>Apartments</td>\n",
              "      <td>2 Bedrooms</td>\n",
              "      <td>800 sq.ft</td>\n",
              "      <td>RM 265 000</td>\n",
              "    </tr>\n",
              "    <tr>\n",
              "      <th>583</th>\n",
              "      <td>Yesterday,</td>\n",
              "      <td>Shah Alam</td>\n",
              "      <td>Flat Jalan Kajang Perdana 2, Kajang Perdana,...</td>\n",
              "      <td>Apartments</td>\n",
              "      <td>3 Bedrooms</td>\n",
              "      <td>811 sq.ft</td>\n",
              "      <td>RM 120 000</td>\n",
              "    </tr>\n",
              "    <tr>\n",
              "      <th>584</th>\n",
              "      <td>Yesterday,</td>\n",
              "      <td>Bukit Jelutong</td>\n",
              "      <td>Apartment Taman Desaminium, Lestari Perdana,...</td>\n",
              "      <td>Apartments</td>\n",
              "      <td>2 Bedrooms</td>\n",
              "      <td>660 sq.ft</td>\n",
              "      <td>RM 230 000</td>\n",
              "    </tr>\n",
              "  </tbody>\n",
              "</table>\n",
              "<p>585 rows × 7 columns</p>\n",
              "</div>"
            ],
            "text/plain": [
              "           Date              Area  ...        Size         Price\n",
              "0        Today,           Sepang   ...   651 sq.ft   RM 120 000 \n",
              "1        Today,           Sepang   ...   660 sq.ft   RM 238 000 \n",
              "2        Today,    Petaling Jaya   ...  1045 sq.ft   RM 509 999 \n",
              "3        Today,        Cyberjaya   ...   660 sq.ft   RM 238 000 \n",
              "4        Today,    Petaling Jaya   ...   750 sq.ft   RM 498 000 \n",
              "..          ...               ...  ...         ...           ...\n",
              "580  Yesterday,        Shah Alam   ...   603 sq.ft   RM 190 000 \n",
              "581  Yesterday,        Shah Alam   ...   516 sq.ft   RM 261 000 \n",
              "582  Yesterday,   Seri Kembangan   ...   800 sq.ft   RM 265 000 \n",
              "583  Yesterday,        Shah Alam   ...   811 sq.ft   RM 120 000 \n",
              "584  Yesterday,   Bukit Jelutong   ...   660 sq.ft   RM 230 000 \n",
              "\n",
              "[585 rows x 7 columns]"
            ]
          },
          "metadata": {
            "tags": []
          },
          "execution_count": 15
        }
      ]
    },
    {
      "cell_type": "code",
      "metadata": {
        "id": "wZyxdV1QEAUZ",
        "colab_type": "code",
        "colab": {}
      },
      "source": [
        "df_apartements['Date'] = df_apartements['Date'].str.replace(',', '')\n"
      ],
      "execution_count": 0,
      "outputs": []
    },
    {
      "cell_type": "code",
      "metadata": {
        "id": "cXdMwna5a-Rk",
        "colab_type": "code",
        "colab": {
          "base_uri": "https://localhost:8080/",
          "height": 419
        },
        "outputId": "24ee03ad-4718-4798-b735-4de7fae78e87"
      },
      "source": [
        "df_apartements"
      ],
      "execution_count": 72,
      "outputs": [
        {
          "output_type": "execute_result",
          "data": {
            "text/html": [
              "<div>\n",
              "<style scoped>\n",
              "    .dataframe tbody tr th:only-of-type {\n",
              "        vertical-align: middle;\n",
              "    }\n",
              "\n",
              "    .dataframe tbody tr th {\n",
              "        vertical-align: top;\n",
              "    }\n",
              "\n",
              "    .dataframe thead th {\n",
              "        text-align: right;\n",
              "    }\n",
              "</style>\n",
              "<table border=\"1\" class=\"dataframe\">\n",
              "  <thead>\n",
              "    <tr style=\"text-align: right;\">\n",
              "      <th></th>\n",
              "      <th>Date</th>\n",
              "      <th>Area</th>\n",
              "      <th>Title</th>\n",
              "      <th>Type</th>\n",
              "      <th>Bedroom</th>\n",
              "      <th>Size</th>\n",
              "      <th>Price</th>\n",
              "    </tr>\n",
              "  </thead>\n",
              "  <tbody>\n",
              "    <tr>\n",
              "      <th>0</th>\n",
              "      <td>Today</td>\n",
              "      <td>Sepang</td>\n",
              "      <td>Flat dahlia, taman dahlia, bandar baru salak...</td>\n",
              "      <td>Apartments</td>\n",
              "      <td>3 Bedrooms</td>\n",
              "      <td>651 sq.ft</td>\n",
              "      <td>RM 120 000</td>\n",
              "    </tr>\n",
              "    <tr>\n",
              "      <th>1</th>\n",
              "      <td>Today</td>\n",
              "      <td>Sepang</td>\n",
              "      <td>Sepang Best Selling Condo Near KLIA! Call Me!</td>\n",
              "      <td>Apartments</td>\n",
              "      <td>3 Bedrooms</td>\n",
              "      <td>660 sq.ft</td>\n",
              "      <td>RM 238 000</td>\n",
              "    </tr>\n",
              "    <tr>\n",
              "      <th>2</th>\n",
              "      <td>Today</td>\n",
              "      <td>Petaling Jaya</td>\n",
              "      <td>Paradesa Rustica Condominium</td>\n",
              "      <td>Apartments</td>\n",
              "      <td>3 Bedrooms</td>\n",
              "      <td>1045 sq.ft</td>\n",
              "      <td>RM 509 999</td>\n",
              "    </tr>\n",
              "    <tr>\n",
              "      <th>3</th>\n",
              "      <td>Today</td>\n",
              "      <td>Cyberjaya</td>\n",
              "      <td>Best Investment at Cybersouth! Hot Selling !...</td>\n",
              "      <td>Apartments</td>\n",
              "      <td>3 Bedrooms</td>\n",
              "      <td>660 sq.ft</td>\n",
              "      <td>RM 238 000</td>\n",
              "    </tr>\n",
              "    <tr>\n",
              "      <th>4</th>\n",
              "      <td>Today</td>\n",
              "      <td>Petaling Jaya</td>\n",
              "      <td>100% Loan , Free MOT , 1km to Jaya33 , Unive...</td>\n",
              "      <td>Apartments</td>\n",
              "      <td>2 Bedrooms</td>\n",
              "      <td>750 sq.ft</td>\n",
              "      <td>RM 498 000</td>\n",
              "    </tr>\n",
              "    <tr>\n",
              "      <th>...</th>\n",
              "      <td>...</td>\n",
              "      <td>...</td>\n",
              "      <td>...</td>\n",
              "      <td>...</td>\n",
              "      <td>...</td>\n",
              "      <td>...</td>\n",
              "      <td>...</td>\n",
              "    </tr>\n",
              "    <tr>\n",
              "      <th>580</th>\n",
              "      <td>Yesterday</td>\n",
              "      <td>Shah Alam</td>\n",
              "      <td>Apartment Desa Subang, Jalan Waruna, Seksyen...</td>\n",
              "      <td>Apartments</td>\n",
              "      <td>3 Bedrooms</td>\n",
              "      <td>603 sq.ft</td>\n",
              "      <td>RM 190 000</td>\n",
              "    </tr>\n",
              "    <tr>\n",
              "      <th>581</th>\n",
              "      <td>Yesterday</td>\n",
              "      <td>Shah Alam</td>\n",
              "      <td>Apartment Service Menara U2, Seksyen 13, Sha...</td>\n",
              "      <td>Apartments</td>\n",
              "      <td>2 Bedrooms</td>\n",
              "      <td>516 sq.ft</td>\n",
              "      <td>RM 261 000</td>\n",
              "    </tr>\n",
              "    <tr>\n",
              "      <th>582</th>\n",
              "      <td>Yesterday</td>\n",
              "      <td>Seri Kembangan</td>\n",
              "      <td>[FREEHOLD] New D'Cassia Apartment Ecohill Se...</td>\n",
              "      <td>Apartments</td>\n",
              "      <td>2 Bedrooms</td>\n",
              "      <td>800 sq.ft</td>\n",
              "      <td>RM 265 000</td>\n",
              "    </tr>\n",
              "    <tr>\n",
              "      <th>583</th>\n",
              "      <td>Yesterday</td>\n",
              "      <td>Shah Alam</td>\n",
              "      <td>Flat Jalan Kajang Perdana 2, Kajang Perdana,...</td>\n",
              "      <td>Apartments</td>\n",
              "      <td>3 Bedrooms</td>\n",
              "      <td>811 sq.ft</td>\n",
              "      <td>RM 120 000</td>\n",
              "    </tr>\n",
              "    <tr>\n",
              "      <th>584</th>\n",
              "      <td>Yesterday</td>\n",
              "      <td>Bukit Jelutong</td>\n",
              "      <td>Apartment Taman Desaminium, Lestari Perdana,...</td>\n",
              "      <td>Apartments</td>\n",
              "      <td>2 Bedrooms</td>\n",
              "      <td>660 sq.ft</td>\n",
              "      <td>RM 230 000</td>\n",
              "    </tr>\n",
              "  </tbody>\n",
              "</table>\n",
              "<p>585 rows × 7 columns</p>\n",
              "</div>"
            ],
            "text/plain": [
              "          Date              Area  ...        Size         Price\n",
              "0        Today           Sepang   ...   651 sq.ft   RM 120 000 \n",
              "1        Today           Sepang   ...   660 sq.ft   RM 238 000 \n",
              "2        Today    Petaling Jaya   ...  1045 sq.ft   RM 509 999 \n",
              "3        Today        Cyberjaya   ...   660 sq.ft   RM 238 000 \n",
              "4        Today    Petaling Jaya   ...   750 sq.ft   RM 498 000 \n",
              "..         ...               ...  ...         ...           ...\n",
              "580  Yesterday        Shah Alam   ...   603 sq.ft   RM 190 000 \n",
              "581  Yesterday        Shah Alam   ...   516 sq.ft   RM 261 000 \n",
              "582  Yesterday   Seri Kembangan   ...   800 sq.ft   RM 265 000 \n",
              "583  Yesterday        Shah Alam   ...   811 sq.ft   RM 120 000 \n",
              "584  Yesterday   Bukit Jelutong   ...   660 sq.ft   RM 230 000 \n",
              "\n",
              "[585 rows x 7 columns]"
            ]
          },
          "metadata": {
            "tags": []
          },
          "execution_count": 72
        }
      ]
    },
    {
      "cell_type": "code",
      "metadata": {
        "id": "qXTckszTbK0N",
        "colab_type": "code",
        "colab": {}
      },
      "source": [
        "#del df_apartements['date']"
      ],
      "execution_count": 0,
      "outputs": []
    },
    {
      "cell_type": "code",
      "metadata": {
        "id": "QS8kmjT2bV1m",
        "colab_type": "code",
        "colab": {
          "base_uri": "https://localhost:8080/",
          "height": 54
        },
        "outputId": "63ebad2f-38a5-4dc5-c22b-d39286b210b5"
      },
      "source": [
        "from google.colab import drive\n",
        "drive.mount('/content/drive')"
      ],
      "execution_count": 21,
      "outputs": [
        {
          "output_type": "stream",
          "text": [
            "Drive already mounted at /content/drive; to attempt to forcibly remount, call drive.mount(\"/content/drive\", force_remount=True).\n"
          ],
          "name": "stdout"
        }
      ]
    },
    {
      "cell_type": "code",
      "metadata": {
        "id": "6Axc8YZObnzm",
        "colab_type": "code",
        "colab": {
          "base_uri": "https://localhost:8080/",
          "height": 34
        },
        "outputId": "ced33437-14c6-4b1c-de26-c27305d9cf1b"
      },
      "source": [
        "!ls"
      ],
      "execution_count": 22,
      "outputs": [
        {
          "output_type": "stream",
          "text": [
            "drive  sample_data\n"
          ],
          "name": "stdout"
        }
      ]
    },
    {
      "cell_type": "code",
      "metadata": {
        "id": "JxayGfx7buHc",
        "colab_type": "code",
        "colab": {
          "base_uri": "https://localhost:8080/",
          "height": 34
        },
        "outputId": "b13c99eb-01cd-43d3-9879-caba0dfb3603"
      },
      "source": [
        "cd /content/drive/My Drive/web-scrapping"
      ],
      "execution_count": 23,
      "outputs": [
        {
          "output_type": "stream",
          "text": [
            "/content/drive/My Drive/web-scrapping\n"
          ],
          "name": "stdout"
        }
      ]
    },
    {
      "cell_type": "code",
      "metadata": {
        "id": "maK3Zz8dbx59",
        "colab_type": "code",
        "colab": {
          "base_uri": "https://localhost:8080/",
          "height": 34
        },
        "outputId": "efe8a503-aa6d-4ac1-8fc4-eb8ab1e73d01"
      },
      "source": [
        "!ls"
      ],
      "execution_count": 24,
      "outputs": [
        {
          "output_type": "stream",
          "text": [
            "exportDataFrames.csv  exportDataFrames.gsheet  exportDatasets.csv\n"
          ],
          "name": "stdout"
        }
      ]
    },
    {
      "cell_type": "code",
      "metadata": {
        "id": "2FHOpy3OcDLi",
        "colab_type": "code",
        "colab": {}
      },
      "source": [
        "df_apartements.to_csv('/content/drive/My Drive/web-scrapping/exportDataset.csv', index=False, header=True)"
      ],
      "execution_count": 0,
      "outputs": []
    },
    {
      "cell_type": "code",
      "metadata": {
        "id": "Y3yVEFUfeQJx",
        "colab_type": "code",
        "colab": {
          "base_uri": "https://localhost:8080/",
          "height": 34
        },
        "outputId": "91a51b04-c0c8-4afc-ca68-9bf585514d51"
      },
      "source": [
        "df_apartements.dropna(inplace= True)\n",
        "df_apartements.shape"
      ],
      "execution_count": 26,
      "outputs": [
        {
          "output_type": "execute_result",
          "data": {
            "text/plain": [
              "(585, 7)"
            ]
          },
          "metadata": {
            "tags": []
          },
          "execution_count": 26
        }
      ]
    },
    {
      "cell_type": "code",
      "metadata": {
        "id": "M_jtRO3neqeY",
        "colab_type": "code",
        "colab": {
          "base_uri": "https://localhost:8080/",
          "height": 419
        },
        "outputId": "04d49b55-b920-494f-e84c-a01c8ca270d7"
      },
      "source": [
        "df_apartements\n"
      ],
      "execution_count": 27,
      "outputs": [
        {
          "output_type": "execute_result",
          "data": {
            "text/html": [
              "<div>\n",
              "<style scoped>\n",
              "    .dataframe tbody tr th:only-of-type {\n",
              "        vertical-align: middle;\n",
              "    }\n",
              "\n",
              "    .dataframe tbody tr th {\n",
              "        vertical-align: top;\n",
              "    }\n",
              "\n",
              "    .dataframe thead th {\n",
              "        text-align: right;\n",
              "    }\n",
              "</style>\n",
              "<table border=\"1\" class=\"dataframe\">\n",
              "  <thead>\n",
              "    <tr style=\"text-align: right;\">\n",
              "      <th></th>\n",
              "      <th>Date</th>\n",
              "      <th>Area</th>\n",
              "      <th>Title</th>\n",
              "      <th>Type</th>\n",
              "      <th>Bedroom</th>\n",
              "      <th>Size</th>\n",
              "      <th>Price</th>\n",
              "    </tr>\n",
              "  </thead>\n",
              "  <tbody>\n",
              "    <tr>\n",
              "      <th>0</th>\n",
              "      <td>Today,</td>\n",
              "      <td>Sepang</td>\n",
              "      <td>Flat dahlia, taman dahlia, bandar baru salak...</td>\n",
              "      <td>Apartments</td>\n",
              "      <td>3 Bedrooms</td>\n",
              "      <td>651 sq.ft</td>\n",
              "      <td>RM 120 000</td>\n",
              "    </tr>\n",
              "    <tr>\n",
              "      <th>1</th>\n",
              "      <td>Today,</td>\n",
              "      <td>Sepang</td>\n",
              "      <td>Sepang Best Selling Condo Near KLIA! Call Me!</td>\n",
              "      <td>Apartments</td>\n",
              "      <td>3 Bedrooms</td>\n",
              "      <td>660 sq.ft</td>\n",
              "      <td>RM 238 000</td>\n",
              "    </tr>\n",
              "    <tr>\n",
              "      <th>2</th>\n",
              "      <td>Today,</td>\n",
              "      <td>Petaling Jaya</td>\n",
              "      <td>Paradesa Rustica Condominium</td>\n",
              "      <td>Apartments</td>\n",
              "      <td>3 Bedrooms</td>\n",
              "      <td>1045 sq.ft</td>\n",
              "      <td>RM 509 999</td>\n",
              "    </tr>\n",
              "    <tr>\n",
              "      <th>3</th>\n",
              "      <td>Today,</td>\n",
              "      <td>Cyberjaya</td>\n",
              "      <td>Best Investment at Cybersouth! Hot Selling !...</td>\n",
              "      <td>Apartments</td>\n",
              "      <td>3 Bedrooms</td>\n",
              "      <td>660 sq.ft</td>\n",
              "      <td>RM 238 000</td>\n",
              "    </tr>\n",
              "    <tr>\n",
              "      <th>4</th>\n",
              "      <td>Today,</td>\n",
              "      <td>Petaling Jaya</td>\n",
              "      <td>100% Loan , Free MOT , 1km to Jaya33 , Unive...</td>\n",
              "      <td>Apartments</td>\n",
              "      <td>2 Bedrooms</td>\n",
              "      <td>750 sq.ft</td>\n",
              "      <td>RM 498 000</td>\n",
              "    </tr>\n",
              "    <tr>\n",
              "      <th>...</th>\n",
              "      <td>...</td>\n",
              "      <td>...</td>\n",
              "      <td>...</td>\n",
              "      <td>...</td>\n",
              "      <td>...</td>\n",
              "      <td>...</td>\n",
              "      <td>...</td>\n",
              "    </tr>\n",
              "    <tr>\n",
              "      <th>580</th>\n",
              "      <td>Yesterday,</td>\n",
              "      <td>Shah Alam</td>\n",
              "      <td>Apartment Desa Subang, Jalan Waruna, Seksyen...</td>\n",
              "      <td>Apartments</td>\n",
              "      <td>3 Bedrooms</td>\n",
              "      <td>603 sq.ft</td>\n",
              "      <td>RM 190 000</td>\n",
              "    </tr>\n",
              "    <tr>\n",
              "      <th>581</th>\n",
              "      <td>Yesterday,</td>\n",
              "      <td>Shah Alam</td>\n",
              "      <td>Apartment Service Menara U2, Seksyen 13, Sha...</td>\n",
              "      <td>Apartments</td>\n",
              "      <td>2 Bedrooms</td>\n",
              "      <td>516 sq.ft</td>\n",
              "      <td>RM 261 000</td>\n",
              "    </tr>\n",
              "    <tr>\n",
              "      <th>582</th>\n",
              "      <td>Yesterday,</td>\n",
              "      <td>Seri Kembangan</td>\n",
              "      <td>[FREEHOLD] New D'Cassia Apartment Ecohill Se...</td>\n",
              "      <td>Apartments</td>\n",
              "      <td>2 Bedrooms</td>\n",
              "      <td>800 sq.ft</td>\n",
              "      <td>RM 265 000</td>\n",
              "    </tr>\n",
              "    <tr>\n",
              "      <th>583</th>\n",
              "      <td>Yesterday,</td>\n",
              "      <td>Shah Alam</td>\n",
              "      <td>Flat Jalan Kajang Perdana 2, Kajang Perdana,...</td>\n",
              "      <td>Apartments</td>\n",
              "      <td>3 Bedrooms</td>\n",
              "      <td>811 sq.ft</td>\n",
              "      <td>RM 120 000</td>\n",
              "    </tr>\n",
              "    <tr>\n",
              "      <th>584</th>\n",
              "      <td>Yesterday,</td>\n",
              "      <td>Bukit Jelutong</td>\n",
              "      <td>Apartment Taman Desaminium, Lestari Perdana,...</td>\n",
              "      <td>Apartments</td>\n",
              "      <td>2 Bedrooms</td>\n",
              "      <td>660 sq.ft</td>\n",
              "      <td>RM 230 000</td>\n",
              "    </tr>\n",
              "  </tbody>\n",
              "</table>\n",
              "<p>585 rows × 7 columns</p>\n",
              "</div>"
            ],
            "text/plain": [
              "           Date              Area  ...        Size         Price\n",
              "0        Today,           Sepang   ...   651 sq.ft   RM 120 000 \n",
              "1        Today,           Sepang   ...   660 sq.ft   RM 238 000 \n",
              "2        Today,    Petaling Jaya   ...  1045 sq.ft   RM 509 999 \n",
              "3        Today,        Cyberjaya   ...   660 sq.ft   RM 238 000 \n",
              "4        Today,    Petaling Jaya   ...   750 sq.ft   RM 498 000 \n",
              "..          ...               ...  ...         ...           ...\n",
              "580  Yesterday,        Shah Alam   ...   603 sq.ft   RM 190 000 \n",
              "581  Yesterday,        Shah Alam   ...   516 sq.ft   RM 261 000 \n",
              "582  Yesterday,   Seri Kembangan   ...   800 sq.ft   RM 265 000 \n",
              "583  Yesterday,        Shah Alam   ...   811 sq.ft   RM 120 000 \n",
              "584  Yesterday,   Bukit Jelutong   ...   660 sq.ft   RM 230 000 \n",
              "\n",
              "[585 rows x 7 columns]"
            ]
          },
          "metadata": {
            "tags": []
          },
          "execution_count": 27
        }
      ]
    },
    {
      "cell_type": "code",
      "metadata": {
        "id": "bVy5YGnoiK-4",
        "colab_type": "code",
        "colab": {
          "base_uri": "https://localhost:8080/",
          "height": 221
        },
        "outputId": "26456bd7-ee3d-4f7f-c733-467969594a72"
      },
      "source": [
        "df_apartements.info()"
      ],
      "execution_count": 28,
      "outputs": [
        {
          "output_type": "stream",
          "text": [
            "<class 'pandas.core.frame.DataFrame'>\n",
            "Int64Index: 585 entries, 0 to 584\n",
            "Data columns (total 7 columns):\n",
            "Date       585 non-null object\n",
            "Area       585 non-null object\n",
            "Title      585 non-null object\n",
            "Type       585 non-null object\n",
            "Bedroom    585 non-null object\n",
            "Size       585 non-null object\n",
            "Price      585 non-null object\n",
            "dtypes: object(7)\n",
            "memory usage: 36.6+ KB\n"
          ],
          "name": "stdout"
        }
      ]
    },
    {
      "cell_type": "code",
      "metadata": {
        "id": "cjRm6RKrhpmB",
        "colab_type": "code",
        "colab": {}
      },
      "source": [
        "from datetime import datetime\n"
      ],
      "execution_count": 0,
      "outputs": []
    },
    {
      "cell_type": "code",
      "metadata": {
        "id": "V_h3AlNAhpgj",
        "colab_type": "code",
        "colab": {}
      },
      "source": [
        "# df_apartements['Date'] =  pd.to_datetime(df_apartements['Date'],\n",
        "#                               format='')"
      ],
      "execution_count": 0,
      "outputs": []
    },
    {
      "cell_type": "code",
      "metadata": {
        "id": "CV5Q_Eqoco4t",
        "colab_type": "code",
        "colab": {}
      },
      "source": [
        "import matplotlib.pyplot as plt\n",
        "%matplotlib inline"
      ],
      "execution_count": 0,
      "outputs": []
    },
    {
      "cell_type": "code",
      "metadata": {
        "id": "UGsr62hI8lvW",
        "colab_type": "code",
        "colab": {
          "base_uri": "https://localhost:8080/",
          "height": 34
        },
        "outputId": "3cb5302b-e5bc-42e5-9b8e-1dd1a2121e03"
      },
      "source": [
        "cleaned_df = df_apartements[~df_apartements['Title'].str.contains(' naza ', case=False)]\n",
        "cleaned_df.shape"
      ],
      "execution_count": 37,
      "outputs": [
        {
          "output_type": "execute_result",
          "data": {
            "text/plain": [
              "(585, 7)"
            ]
          },
          "metadata": {
            "tags": []
          },
          "execution_count": 37
        }
      ]
    },
    {
      "cell_type": "code",
      "metadata": {
        "id": "kMXJ4OSM99yt",
        "colab_type": "code",
        "colab": {
          "base_uri": "https://localhost:8080/",
          "height": 419
        },
        "outputId": "582fd675-80dc-44a1-95ad-d467fe989ac7"
      },
      "source": [
        "cleaned_df['Price'].replace(regex=True,inplace=True,to_replace=r'\\D',value=r'')\n",
        "cleaned_df['Price'] = pd.to_numeric(cleaned_df['Price'])\n",
        "\n",
        "cleaned_df"
      ],
      "execution_count": 56,
      "outputs": [
        {
          "output_type": "execute_result",
          "data": {
            "text/html": [
              "<div>\n",
              "<style scoped>\n",
              "    .dataframe tbody tr th:only-of-type {\n",
              "        vertical-align: middle;\n",
              "    }\n",
              "\n",
              "    .dataframe tbody tr th {\n",
              "        vertical-align: top;\n",
              "    }\n",
              "\n",
              "    .dataframe thead th {\n",
              "        text-align: right;\n",
              "    }\n",
              "</style>\n",
              "<table border=\"1\" class=\"dataframe\">\n",
              "  <thead>\n",
              "    <tr style=\"text-align: right;\">\n",
              "      <th></th>\n",
              "      <th>Date</th>\n",
              "      <th>Area</th>\n",
              "      <th>Title</th>\n",
              "      <th>Type</th>\n",
              "      <th>Bedroom</th>\n",
              "      <th>Size</th>\n",
              "      <th>Price</th>\n",
              "    </tr>\n",
              "  </thead>\n",
              "  <tbody>\n",
              "    <tr>\n",
              "      <th>0</th>\n",
              "      <td>Today,</td>\n",
              "      <td>Sepang</td>\n",
              "      <td>Flat dahlia, taman dahlia, bandar baru salak...</td>\n",
              "      <td>Apartments</td>\n",
              "      <td>3 Bedrooms</td>\n",
              "      <td>651 sq.ft</td>\n",
              "      <td>120000</td>\n",
              "    </tr>\n",
              "    <tr>\n",
              "      <th>1</th>\n",
              "      <td>Today,</td>\n",
              "      <td>Sepang</td>\n",
              "      <td>Sepang Best Selling Condo Near KLIA! Call Me!</td>\n",
              "      <td>Apartments</td>\n",
              "      <td>3 Bedrooms</td>\n",
              "      <td>660 sq.ft</td>\n",
              "      <td>238000</td>\n",
              "    </tr>\n",
              "    <tr>\n",
              "      <th>2</th>\n",
              "      <td>Today,</td>\n",
              "      <td>Petaling Jaya</td>\n",
              "      <td>Paradesa Rustica Condominium</td>\n",
              "      <td>Apartments</td>\n",
              "      <td>3 Bedrooms</td>\n",
              "      <td>1045 sq.ft</td>\n",
              "      <td>509999</td>\n",
              "    </tr>\n",
              "    <tr>\n",
              "      <th>3</th>\n",
              "      <td>Today,</td>\n",
              "      <td>Cyberjaya</td>\n",
              "      <td>Best Investment at Cybersouth! Hot Selling !...</td>\n",
              "      <td>Apartments</td>\n",
              "      <td>3 Bedrooms</td>\n",
              "      <td>660 sq.ft</td>\n",
              "      <td>238000</td>\n",
              "    </tr>\n",
              "    <tr>\n",
              "      <th>4</th>\n",
              "      <td>Today,</td>\n",
              "      <td>Petaling Jaya</td>\n",
              "      <td>100% Loan , Free MOT , 1km to Jaya33 , Unive...</td>\n",
              "      <td>Apartments</td>\n",
              "      <td>2 Bedrooms</td>\n",
              "      <td>750 sq.ft</td>\n",
              "      <td>498000</td>\n",
              "    </tr>\n",
              "    <tr>\n",
              "      <th>...</th>\n",
              "      <td>...</td>\n",
              "      <td>...</td>\n",
              "      <td>...</td>\n",
              "      <td>...</td>\n",
              "      <td>...</td>\n",
              "      <td>...</td>\n",
              "      <td>...</td>\n",
              "    </tr>\n",
              "    <tr>\n",
              "      <th>580</th>\n",
              "      <td>Yesterday,</td>\n",
              "      <td>Shah Alam</td>\n",
              "      <td>Apartment Desa Subang, Jalan Waruna, Seksyen...</td>\n",
              "      <td>Apartments</td>\n",
              "      <td>3 Bedrooms</td>\n",
              "      <td>603 sq.ft</td>\n",
              "      <td>190000</td>\n",
              "    </tr>\n",
              "    <tr>\n",
              "      <th>581</th>\n",
              "      <td>Yesterday,</td>\n",
              "      <td>Shah Alam</td>\n",
              "      <td>Apartment Service Menara U2, Seksyen 13, Sha...</td>\n",
              "      <td>Apartments</td>\n",
              "      <td>2 Bedrooms</td>\n",
              "      <td>516 sq.ft</td>\n",
              "      <td>261000</td>\n",
              "    </tr>\n",
              "    <tr>\n",
              "      <th>582</th>\n",
              "      <td>Yesterday,</td>\n",
              "      <td>Seri Kembangan</td>\n",
              "      <td>[FREEHOLD] New D'Cassia Apartment Ecohill Se...</td>\n",
              "      <td>Apartments</td>\n",
              "      <td>2 Bedrooms</td>\n",
              "      <td>800 sq.ft</td>\n",
              "      <td>265000</td>\n",
              "    </tr>\n",
              "    <tr>\n",
              "      <th>583</th>\n",
              "      <td>Yesterday,</td>\n",
              "      <td>Shah Alam</td>\n",
              "      <td>Flat Jalan Kajang Perdana 2, Kajang Perdana,...</td>\n",
              "      <td>Apartments</td>\n",
              "      <td>3 Bedrooms</td>\n",
              "      <td>811 sq.ft</td>\n",
              "      <td>120000</td>\n",
              "    </tr>\n",
              "    <tr>\n",
              "      <th>584</th>\n",
              "      <td>Yesterday,</td>\n",
              "      <td>Bukit Jelutong</td>\n",
              "      <td>Apartment Taman Desaminium, Lestari Perdana,...</td>\n",
              "      <td>Apartments</td>\n",
              "      <td>2 Bedrooms</td>\n",
              "      <td>660 sq.ft</td>\n",
              "      <td>230000</td>\n",
              "    </tr>\n",
              "  </tbody>\n",
              "</table>\n",
              "<p>585 rows × 7 columns</p>\n",
              "</div>"
            ],
            "text/plain": [
              "           Date              Area  ...        Size   Price\n",
              "0        Today,           Sepang   ...   651 sq.ft  120000\n",
              "1        Today,           Sepang   ...   660 sq.ft  238000\n",
              "2        Today,    Petaling Jaya   ...  1045 sq.ft  509999\n",
              "3        Today,        Cyberjaya   ...   660 sq.ft  238000\n",
              "4        Today,    Petaling Jaya   ...   750 sq.ft  498000\n",
              "..          ...               ...  ...         ...     ...\n",
              "580  Yesterday,        Shah Alam   ...   603 sq.ft  190000\n",
              "581  Yesterday,        Shah Alam   ...   516 sq.ft  261000\n",
              "582  Yesterday,   Seri Kembangan   ...   800 sq.ft  265000\n",
              "583  Yesterday,        Shah Alam   ...   811 sq.ft  120000\n",
              "584  Yesterday,   Bukit Jelutong   ...   660 sq.ft  230000\n",
              "\n",
              "[585 rows x 7 columns]"
            ]
          },
          "metadata": {
            "tags": []
          },
          "execution_count": 56
        }
      ]
    },
    {
      "cell_type": "code",
      "metadata": {
        "id": "Sgmc5pn-dIsz",
        "colab_type": "code",
        "colab": {
          "base_uri": "https://localhost:8080/",
          "height": 1000
        },
        "outputId": "c64f1513-4003-45da-d6b7-525deda38395"
      },
      "source": [
        "location_group = cleaned_df.groupby(['Area'])['Title'].count().reset_index()\n",
        "\n",
        "location_average = cleaned_df.groupby(['Area'])['Price'].mean().reset_index()\n",
        "\n",
        "\n",
        "display(location_group, round(location_average, 2))"
      ],
      "execution_count": 57,
      "outputs": [
        {
          "output_type": "display_data",
          "data": {
            "text/html": [
              "<div>\n",
              "<style scoped>\n",
              "    .dataframe tbody tr th:only-of-type {\n",
              "        vertical-align: middle;\n",
              "    }\n",
              "\n",
              "    .dataframe tbody tr th {\n",
              "        vertical-align: top;\n",
              "    }\n",
              "\n",
              "    .dataframe thead th {\n",
              "        text-align: right;\n",
              "    }\n",
              "</style>\n",
              "<table border=\"1\" class=\"dataframe\">\n",
              "  <thead>\n",
              "    <tr style=\"text-align: right;\">\n",
              "      <th></th>\n",
              "      <th>Area</th>\n",
              "      <th>Title</th>\n",
              "    </tr>\n",
              "  </thead>\n",
              "  <tbody>\n",
              "    <tr>\n",
              "      <th>0</th>\n",
              "      <td>Ampang</td>\n",
              "      <td>15</td>\n",
              "    </tr>\n",
              "    <tr>\n",
              "      <th>1</th>\n",
              "      <td>Bandar Sunway</td>\n",
              "      <td>15</td>\n",
              "    </tr>\n",
              "    <tr>\n",
              "      <th>2</th>\n",
              "      <td>Bangi</td>\n",
              "      <td>15</td>\n",
              "    </tr>\n",
              "    <tr>\n",
              "      <th>3</th>\n",
              "      <td>Bukit Jelutong</td>\n",
              "      <td>15</td>\n",
              "    </tr>\n",
              "    <tr>\n",
              "      <th>4</th>\n",
              "      <td>Cyberjaya</td>\n",
              "      <td>30</td>\n",
              "    </tr>\n",
              "    <tr>\n",
              "      <th>5</th>\n",
              "      <td>Kajang</td>\n",
              "      <td>75</td>\n",
              "    </tr>\n",
              "    <tr>\n",
              "      <th>6</th>\n",
              "      <td>Kota Damansara</td>\n",
              "      <td>15</td>\n",
              "    </tr>\n",
              "    <tr>\n",
              "      <th>7</th>\n",
              "      <td>Petaling Jaya</td>\n",
              "      <td>60</td>\n",
              "    </tr>\n",
              "    <tr>\n",
              "      <th>8</th>\n",
              "      <td>Puchong</td>\n",
              "      <td>15</td>\n",
              "    </tr>\n",
              "    <tr>\n",
              "      <th>9</th>\n",
              "      <td>Rawang</td>\n",
              "      <td>30</td>\n",
              "    </tr>\n",
              "    <tr>\n",
              "      <th>10</th>\n",
              "      <td>Semenyih</td>\n",
              "      <td>30</td>\n",
              "    </tr>\n",
              "    <tr>\n",
              "      <th>11</th>\n",
              "      <td>Sepang</td>\n",
              "      <td>30</td>\n",
              "    </tr>\n",
              "    <tr>\n",
              "      <th>12</th>\n",
              "      <td>Seri Kembangan</td>\n",
              "      <td>60</td>\n",
              "    </tr>\n",
              "    <tr>\n",
              "      <th>13</th>\n",
              "      <td>Shah Alam</td>\n",
              "      <td>150</td>\n",
              "    </tr>\n",
              "    <tr>\n",
              "      <th>14</th>\n",
              "      <td>Subang Bestari</td>\n",
              "      <td>15</td>\n",
              "    </tr>\n",
              "    <tr>\n",
              "      <th>15</th>\n",
              "      <td>USJ</td>\n",
              "      <td>15</td>\n",
              "    </tr>\n",
              "  </tbody>\n",
              "</table>\n",
              "</div>"
            ],
            "text/plain": [
              "                Area  Title\n",
              "0            Ampang      15\n",
              "1     Bandar Sunway      15\n",
              "2             Bangi      15\n",
              "3    Bukit Jelutong      15\n",
              "4         Cyberjaya      30\n",
              "5            Kajang      75\n",
              "6    Kota Damansara      15\n",
              "7     Petaling Jaya      60\n",
              "8           Puchong      15\n",
              "9            Rawang      30\n",
              "10         Semenyih      30\n",
              "11           Sepang      30\n",
              "12   Seri Kembangan      60\n",
              "13        Shah Alam     150\n",
              "14   Subang Bestari      15\n",
              "15              USJ      15"
            ]
          },
          "metadata": {
            "tags": []
          }
        },
        {
          "output_type": "display_data",
          "data": {
            "text/html": [
              "<div>\n",
              "<style scoped>\n",
              "    .dataframe tbody tr th:only-of-type {\n",
              "        vertical-align: middle;\n",
              "    }\n",
              "\n",
              "    .dataframe tbody tr th {\n",
              "        vertical-align: top;\n",
              "    }\n",
              "\n",
              "    .dataframe thead th {\n",
              "        text-align: right;\n",
              "    }\n",
              "</style>\n",
              "<table border=\"1\" class=\"dataframe\">\n",
              "  <thead>\n",
              "    <tr style=\"text-align: right;\">\n",
              "      <th></th>\n",
              "      <th>Area</th>\n",
              "      <th>Price</th>\n",
              "    </tr>\n",
              "  </thead>\n",
              "  <tbody>\n",
              "    <tr>\n",
              "      <th>0</th>\n",
              "      <td>Ampang</td>\n",
              "      <td>216846.67</td>\n",
              "    </tr>\n",
              "    <tr>\n",
              "      <th>1</th>\n",
              "      <td>Bandar Sunway</td>\n",
              "      <td>296599.93</td>\n",
              "    </tr>\n",
              "    <tr>\n",
              "      <th>2</th>\n",
              "      <td>Bangi</td>\n",
              "      <td>314599.93</td>\n",
              "    </tr>\n",
              "    <tr>\n",
              "      <th>3</th>\n",
              "      <td>Bukit Jelutong</td>\n",
              "      <td>234713.33</td>\n",
              "    </tr>\n",
              "    <tr>\n",
              "      <th>4</th>\n",
              "      <td>Cyberjaya</td>\n",
              "      <td>250223.30</td>\n",
              "    </tr>\n",
              "    <tr>\n",
              "      <th>5</th>\n",
              "      <td>Kajang</td>\n",
              "      <td>316329.29</td>\n",
              "    </tr>\n",
              "    <tr>\n",
              "      <th>6</th>\n",
              "      <td>Kota Damansara</td>\n",
              "      <td>352666.60</td>\n",
              "    </tr>\n",
              "    <tr>\n",
              "      <th>7</th>\n",
              "      <td>Petaling Jaya</td>\n",
              "      <td>262639.95</td>\n",
              "    </tr>\n",
              "    <tr>\n",
              "      <th>8</th>\n",
              "      <td>Puchong</td>\n",
              "      <td>301866.60</td>\n",
              "    </tr>\n",
              "    <tr>\n",
              "      <th>9</th>\n",
              "      <td>Rawang</td>\n",
              "      <td>281533.33</td>\n",
              "    </tr>\n",
              "    <tr>\n",
              "      <th>10</th>\n",
              "      <td>Semenyih</td>\n",
              "      <td>311766.67</td>\n",
              "    </tr>\n",
              "    <tr>\n",
              "      <th>11</th>\n",
              "      <td>Sepang</td>\n",
              "      <td>241513.33</td>\n",
              "    </tr>\n",
              "    <tr>\n",
              "      <th>12</th>\n",
              "      <td>Seri Kembangan</td>\n",
              "      <td>227668.33</td>\n",
              "    </tr>\n",
              "    <tr>\n",
              "      <th>13</th>\n",
              "      <td>Shah Alam</td>\n",
              "      <td>272993.99</td>\n",
              "    </tr>\n",
              "    <tr>\n",
              "      <th>14</th>\n",
              "      <td>Subang Bestari</td>\n",
              "      <td>367733.27</td>\n",
              "    </tr>\n",
              "    <tr>\n",
              "      <th>15</th>\n",
              "      <td>USJ</td>\n",
              "      <td>349933.27</td>\n",
              "    </tr>\n",
              "  </tbody>\n",
              "</table>\n",
              "</div>"
            ],
            "text/plain": [
              "                Area      Price\n",
              "0            Ampang   216846.67\n",
              "1     Bandar Sunway   296599.93\n",
              "2             Bangi   314599.93\n",
              "3    Bukit Jelutong   234713.33\n",
              "4         Cyberjaya   250223.30\n",
              "5            Kajang   316329.29\n",
              "6    Kota Damansara   352666.60\n",
              "7     Petaling Jaya   262639.95\n",
              "8           Puchong   301866.60\n",
              "9            Rawang   281533.33\n",
              "10         Semenyih   311766.67\n",
              "11           Sepang   241513.33\n",
              "12   Seri Kembangan   227668.33\n",
              "13        Shah Alam   272993.99\n",
              "14   Subang Bestari   367733.27\n",
              "15              USJ   349933.27"
            ]
          },
          "metadata": {
            "tags": []
          }
        }
      ]
    },
    {
      "cell_type": "code",
      "metadata": {
        "id": "nKPIIzHDdJ2T",
        "colab_type": "code",
        "colab": {
          "base_uri": "https://localhost:8080/",
          "height": 555
        },
        "outputId": "1233166a-679b-443b-9bc9-4f69749160a0"
      },
      "source": [
        "location_group = location_group.sort_values('Title', ascending=False).reset_index(drop=True)\n",
        "location_group.Title\n",
        "\n",
        "plt.rcdefaults()\n",
        "fix,ax = plt.subplots()\n",
        "\n",
        "locations = location_group.Area.tolist()\n",
        "y_pos = np.arange(len(locations))\n",
        "names = location_group.Title.tolist()\n",
        "\n",
        "ax.barh(y_pos,names)\n",
        "ax.set_yticks(y_pos)\n",
        "ax.set_yticklabels(locations)\n",
        "ax.invert_yaxis() \n",
        "ax.set_xlabel('Number of Sellers')\n",
        "ax.set_ylabel('Locations')\n",
        "ax.set_title('\\n\\n Number of Sellers by Different Location\\n\\n')\n",
        "\n",
        "plt.show()"
      ],
      "execution_count": 68,
      "outputs": [
        {
          "output_type": "display_data",
          "data": {
            "image/png": "[encoded data removed]",
            "text/plain": [
              "<Figure size 640x480 with 1 Axes>"
            ]
          },
          "metadata": {
            "tags": []
          }
        }
      ]
    },
    {
      "cell_type": "markdown",
      "metadata": {
        "id": "zQElg3QHA90a",
        "colab_type": "text"
      },
      "source": [
        "# To be continued "
      ]
    }
  ]
}