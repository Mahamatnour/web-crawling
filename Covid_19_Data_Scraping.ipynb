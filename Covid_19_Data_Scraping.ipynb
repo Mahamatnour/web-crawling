{
  "nbformat": 4,
  "nbformat_minor": 0,
  "metadata": {
    "colab": {
      "name": "Covid-19-Data-Scraping.ipynb",
      "provenance": [],
      "collapsed_sections": []
    },
    "kernelspec": {
      "name": "python3",
      "display_name": "Python 3"
    },
    "accelerator": "GPU"
  },
  "cells": [
    {
      "cell_type": "markdown",
      "metadata": {
        "id": "r4NtDMi_4uvh",
        "colab_type": "text"
      },
      "source": [
        "### **Data Scrapping for covid 19 on Malaysian outbreak**\n",
        "\n",
        "Hi, I would like to retrieve datasets on Covid 19 from day 1 in tabular format from this website https://www.outbreak.my/. I would like to use the data for data analytics purposes. Appreciate your help if possible.\n",
        "\n",
        "I'm actually interested in the data as shown in the location map from this link (https://www.outbreak.my/map), where the website outlined the location of the confirmed cases with detailed information such as the place, reported data, case active state and source of information in the .csv format.\n",
        "\n",
        "Also a chance that I might be able to get the Malaysia statistics data from this link (https://www.outbreak.my/stats) in the as well in tabular format (.csv)"
      ]
    },
    {
      "cell_type": "code",
      "metadata": {
        "id": "b2a9dss043pg",
        "colab_type": "code",
        "colab": {}
      },
      "source": [
        "import requests\n",
        "from bs4 import BeautifulSoup\n",
        "import pandas as pd\n",
        "import numpy as np\n",
        "import datetime \n",
        "import time "
      ],
      "execution_count": 0,
      "outputs": []
    },
    {
      "cell_type": "code",
      "metadata": {
        "id": "cqyDyY4GIgN3",
        "colab_type": "code",
        "colab": {}
      },
      "source": [
        "url = \"https://www.outbreak.my/stats\""
      ],
      "execution_count": 0,
      "outputs": []
    },
    {
      "cell_type": "code",
      "metadata": {
        "id": "iW3ccjEKIfED",
        "colab_type": "code",
        "colab": {}
      },
      "source": [
        "htmltable = soup.find('table', { 'class' : 'table table-striped card-table table-vcenter text-nowrap datatable' })"
      ],
      "execution_count": 0,
      "outputs": []
    },
    {
      "cell_type": "code",
      "metadata": {
        "id": "Moucle2mBPEh",
        "colab_type": "code",
        "colab": {}
      },
      "source": [
        "def tableDataText(table):       \n",
        "    rows = []\n",
        "    trs = table.find_all('tr')\n",
        "    headerow = [td.get_text(strip=True) for td in trs[0].find_all('th')] # header row\n",
        "    if headerow: # if there is a header row include first\n",
        "        rows.append(headerow)\n",
        "        trs = trs[1:]\n",
        "    for tr in trs: # for every table row\n",
        "        rows.append([td.get_text(strip=True) for td in tr.find_all('td')]) # data row\n",
        "    return rows"
      ],
      "execution_count": 0,
      "outputs": []
    },
    {
      "cell_type": "code",
      "metadata": {
        "id": "8XSozEOWKDDD",
        "colab_type": "code",
        "colab": {
          "base_uri": "https://localhost:8080/",
          "height": 289
        },
        "outputId": "933e9695-bb08-4ca3-97a5-71453860ffb4"
      },
      "source": [
        "list_table = tableDataText(htmltable)\n",
        "list_table[:2]"
      ],
      "execution_count": 77,
      "outputs": [
        {
          "output_type": "execute_result",
          "data": {
            "text/plain": [
              "[['Case',\n",
              "  'Age',\n",
              "  'Gender',\n",
              "  'Nationality',\n",
              "  'Status',\n",
              "  'Confirmed Date',\n",
              "  'Recovered Date',\n",
              "  'Deceased'],\n",
              " ['2162',\n",
              "  '61',\n",
              "  'Male',\n",
              "  'Malaysian',\n",
              "  'Death',\n",
              "  '24th, Mar 2020',\n",
              "  '-',\n",
              "  '28th, Mar 2020']]"
            ]
          },
          "metadata": {
            "tags": []
          },
          "execution_count": 77
        }
      ]
    },
    {
      "cell_type": "code",
      "metadata": {
        "id": "OnRsc9XxDQUU",
        "colab_type": "code",
        "colab": {
          "base_uri": "https://localhost:8080/",
          "height": 419
        },
        "outputId": "dccdbe81-6322-4e09-94e3-0118181a110f"
      },
      "source": [
        "dftable = pd.DataFrame(list_table[1:], columns=list_table[0])\n",
        "dftable.head(1000)\n"
      ],
      "execution_count": 80,
      "outputs": [
        {
          "output_type": "execute_result",
          "data": {
            "text/html": [
              "<div>\n",
              "<style scoped>\n",
              "    .dataframe tbody tr th:only-of-type {\n",
              "        vertical-align: middle;\n",
              "    }\n",
              "\n",
              "    .dataframe tbody tr th {\n",
              "        vertical-align: top;\n",
              "    }\n",
              "\n",
              "    .dataframe thead th {\n",
              "        text-align: right;\n",
              "    }\n",
              "</style>\n",
              "<table border=\"1\" class=\"dataframe\">\n",
              "  <thead>\n",
              "    <tr style=\"text-align: right;\">\n",
              "      <th></th>\n",
              "      <th>Case</th>\n",
              "      <th>Age</th>\n",
              "      <th>Gender</th>\n",
              "      <th>Nationality</th>\n",
              "      <th>Status</th>\n",
              "      <th>Confirmed Date</th>\n",
              "      <th>Recovered Date</th>\n",
              "      <th>Deceased</th>\n",
              "    </tr>\n",
              "  </thead>\n",
              "  <tbody>\n",
              "    <tr>\n",
              "      <th>0</th>\n",
              "      <td>2162</td>\n",
              "      <td>61</td>\n",
              "      <td>Male</td>\n",
              "      <td>Malaysian</td>\n",
              "      <td>Death</td>\n",
              "      <td>24th, Mar 2020</td>\n",
              "      <td>-</td>\n",
              "      <td>28th, Mar 2020</td>\n",
              "    </tr>\n",
              "    <tr>\n",
              "      <th>1</th>\n",
              "      <td>2032</td>\n",
              "      <td>83</td>\n",
              "      <td>Male</td>\n",
              "      <td>Malaysian</td>\n",
              "      <td>Death</td>\n",
              "      <td>25th, Mar 2020</td>\n",
              "      <td>-</td>\n",
              "      <td>27th, Mar 2020</td>\n",
              "    </tr>\n",
              "    <tr>\n",
              "      <th>2</th>\n",
              "      <td>1840</td>\n",
              "      <td>62</td>\n",
              "      <td>Male</td>\n",
              "      <td>Malaysian</td>\n",
              "      <td>Death</td>\n",
              "      <td>23rd, Mar 2020</td>\n",
              "      <td>-</td>\n",
              "      <td>26th, Mar 2020</td>\n",
              "    </tr>\n",
              "    <tr>\n",
              "      <th>3</th>\n",
              "      <td>1797</td>\n",
              "      <td>48</td>\n",
              "      <td>Male</td>\n",
              "      <td>Malaysian</td>\n",
              "      <td>Death</td>\n",
              "      <td>23rd, Mar 2020</td>\n",
              "      <td>-</td>\n",
              "      <td>26th, Mar 2020</td>\n",
              "    </tr>\n",
              "    <tr>\n",
              "      <th>4</th>\n",
              "      <td>1625</td>\n",
              "      <td>56</td>\n",
              "      <td>Male</td>\n",
              "      <td>Malaysian</td>\n",
              "      <td>Death</td>\n",
              "      <td>20th, Mar 2020</td>\n",
              "      <td>-</td>\n",
              "      <td>25th, Mar 2020</td>\n",
              "    </tr>\n",
              "    <tr>\n",
              "      <th>...</th>\n",
              "      <td>...</td>\n",
              "      <td>...</td>\n",
              "      <td>...</td>\n",
              "      <td>...</td>\n",
              "      <td>...</td>\n",
              "      <td>...</td>\n",
              "      <td>...</td>\n",
              "      <td>...</td>\n",
              "    </tr>\n",
              "    <tr>\n",
              "      <th>158</th>\n",
              "      <td>5</td>\n",
              "      <td>36</td>\n",
              "      <td>Female</td>\n",
              "      <td>China</td>\n",
              "      <td>Recovered</td>\n",
              "      <td>28th, Jan 2020</td>\n",
              "      <td>14th, Feb 2020</td>\n",
              "      <td>-</td>\n",
              "    </tr>\n",
              "    <tr>\n",
              "      <th>159</th>\n",
              "      <td>4</td>\n",
              "      <td>40</td>\n",
              "      <td>Male</td>\n",
              "      <td>China</td>\n",
              "      <td>Recovered</td>\n",
              "      <td>25th, Jan 2020</td>\n",
              "      <td>8th, Feb 2020</td>\n",
              "      <td>-</td>\n",
              "    </tr>\n",
              "    <tr>\n",
              "      <th>160</th>\n",
              "      <td>3</td>\n",
              "      <td>65</td>\n",
              "      <td>Female</td>\n",
              "      <td>China</td>\n",
              "      <td>Recovered</td>\n",
              "      <td>24th, Jan 2020</td>\n",
              "      <td>14th, Feb 2020</td>\n",
              "      <td>-</td>\n",
              "    </tr>\n",
              "    <tr>\n",
              "      <th>161</th>\n",
              "      <td>2</td>\n",
              "      <td>2</td>\n",
              "      <td>Male</td>\n",
              "      <td>China</td>\n",
              "      <td>Recovered</td>\n",
              "      <td>24th, Jan 2020</td>\n",
              "      <td>14th, Feb 2020</td>\n",
              "      <td>-</td>\n",
              "    </tr>\n",
              "    <tr>\n",
              "      <th>162</th>\n",
              "      <td>1</td>\n",
              "      <td>11</td>\n",
              "      <td>Male</td>\n",
              "      <td>China</td>\n",
              "      <td>Recovered</td>\n",
              "      <td>24th, Jan 2020</td>\n",
              "      <td>14th, Feb 2020</td>\n",
              "      <td>-</td>\n",
              "    </tr>\n",
              "  </tbody>\n",
              "</table>\n",
              "<p>163 rows × 8 columns</p>\n",
              "</div>"
            ],
            "text/plain": [
              "     Case Age  Gender  ...  Confirmed Date  Recovered Date        Deceased\n",
              "0    2162  61    Male  ...  24th, Mar 2020               -  28th, Mar 2020\n",
              "1    2032  83    Male  ...  25th, Mar 2020               -  27th, Mar 2020\n",
              "2    1840  62    Male  ...  23rd, Mar 2020               -  26th, Mar 2020\n",
              "3    1797  48    Male  ...  23rd, Mar 2020               -  26th, Mar 2020\n",
              "4    1625  56    Male  ...  20th, Mar 2020               -  25th, Mar 2020\n",
              "..    ...  ..     ...  ...             ...             ...             ...\n",
              "158     5  36  Female  ...  28th, Jan 2020  14th, Feb 2020               -\n",
              "159     4  40    Male  ...  25th, Jan 2020   8th, Feb 2020               -\n",
              "160     3  65  Female  ...  24th, Jan 2020  14th, Feb 2020               -\n",
              "161     2   2    Male  ...  24th, Jan 2020  14th, Feb 2020               -\n",
              "162     1  11    Male  ...  24th, Jan 2020  14th, Feb 2020               -\n",
              "\n",
              "[163 rows x 8 columns]"
            ]
          },
          "metadata": {
            "tags": []
          },
          "execution_count": 80
        }
      ]
    },
    {
      "cell_type": "code",
      "metadata": {
        "id": "o4qFuq7vDTzL",
        "colab_type": "code",
        "colab": {
          "base_uri": "https://localhost:8080/",
          "height": 51
        },
        "outputId": "8162e1f7-c7c6-495a-d8ac-8814c475b75a"
      },
      "source": [
        "!ls"
      ],
      "execution_count": 84,
      "outputs": [
        {
          "output_type": "stream",
          "text": [
            "exportDataFrames.csv\t exportDataset.csv     exportDatasets.csv\n",
            "exportDataFrames.gsheet  exportDataset.gsheet\n"
          ],
          "name": "stdout"
        }
      ]
    },
    {
      "cell_type": "code",
      "metadata": {
        "id": "2a-RZdc-Dd0b",
        "colab_type": "code",
        "colab": {
          "base_uri": "https://localhost:8080/",
          "height": 34
        },
        "outputId": "898037e2-52b2-4a4b-cf18-8d4dee341003"
      },
      "source": [
        "cd /content/drive/My Drive/web-scrapping"
      ],
      "execution_count": 83,
      "outputs": [
        {
          "output_type": "stream",
          "text": [
            "/content/drive/My Drive/web-scrapping\n"
          ],
          "name": "stdout"
        }
      ]
    },
    {
      "cell_type": "code",
      "metadata": {
        "id": "6d94iZEaDiuX",
        "colab_type": "code",
        "colab": {}
      },
      "source": [
        "dftable.to_csv('/content/drive/My Drive/web-scrapping/covid19.csv', index=False, header=True)"
      ],
      "execution_count": 0,
      "outputs": []
    },
    {
      "cell_type": "code",
      "metadata": {
        "id": "T0VU3K1XMLkF",
        "colab_type": "code",
        "colab": {
          "base_uri": "https://localhost:8080/",
          "height": 170
        },
        "outputId": "c7fda5ad-c7e4-404d-bf99-bfce6c7d75a0"
      },
      "source": [
        "dftable.isnull().sum()"
      ],
      "execution_count": 87,
      "outputs": [
        {
          "output_type": "execute_result",
          "data": {
            "text/plain": [
              "Case              0\n",
              "Age               0\n",
              "Gender            0\n",
              "Nationality       0\n",
              "Status            0\n",
              "Confirmed Date    0\n",
              "Recovered Date    0\n",
              "Deceased          0\n",
              "dtype: int64"
            ]
          },
          "metadata": {
            "tags": []
          },
          "execution_count": 87
        }
      ]
    },
    {
      "cell_type": "code",
      "metadata": {
        "id": "P-V1vtLIOoIN",
        "colab_type": "code",
        "colab": {
          "base_uri": "https://localhost:8080/",
          "height": 170
        },
        "outputId": "28fe0a56-c7dc-4ddf-af7a-889df740e4b3"
      },
      "source": [
        "dftable.isna().sum()"
      ],
      "execution_count": 88,
      "outputs": [
        {
          "output_type": "execute_result",
          "data": {
            "text/plain": [
              "Case              0\n",
              "Age               0\n",
              "Gender            0\n",
              "Nationality       0\n",
              "Status            0\n",
              "Confirmed Date    0\n",
              "Recovered Date    0\n",
              "Deceased          0\n",
              "dtype: int64"
            ]
          },
          "metadata": {
            "tags": []
          },
          "execution_count": 88
        }
      ]
    },
    {
      "cell_type": "code",
      "metadata": {
        "id": "sfa-QRfvOstK",
        "colab_type": "code",
        "colab": {
          "base_uri": "https://localhost:8080/",
          "height": 170
        },
        "outputId": "089f768b-e704-4f20-f9c4-059bc6a29d6c"
      },
      "source": [
        "dftable.isna().any()"
      ],
      "execution_count": 89,
      "outputs": [
        {
          "output_type": "execute_result",
          "data": {
            "text/plain": [
              "Case              False\n",
              "Age               False\n",
              "Gender            False\n",
              "Nationality       False\n",
              "Status            False\n",
              "Confirmed Date    False\n",
              "Recovered Date    False\n",
              "Deceased          False\n",
              "dtype: bool"
            ]
          },
          "metadata": {
            "tags": []
          },
          "execution_count": 89
        }
      ]
    },
    {
      "cell_type": "code",
      "metadata": {
        "id": "ZkR97HPTOwPc",
        "colab_type": "code",
        "colab": {
          "base_uri": "https://localhost:8080/",
          "height": 34
        },
        "outputId": "8483f5b9-c1b7-4afd-abd5-2fe360fa05e3"
      },
      "source": [
        "dftable.isna().any(axis = None)"
      ],
      "execution_count": 90,
      "outputs": [
        {
          "output_type": "execute_result",
          "data": {
            "text/plain": [
              "False"
            ]
          },
          "metadata": {
            "tags": []
          },
          "execution_count": 90
        }
      ]
    },
    {
      "cell_type": "code",
      "metadata": {
        "id": "xL1bjsseOziR",
        "colab_type": "code",
        "colab": {
          "base_uri": "https://localhost:8080/",
          "height": 238
        },
        "outputId": "f745598e-3a22-4ab5-dba2-d91774403f67"
      },
      "source": [
        "dftable.info()"
      ],
      "execution_count": 91,
      "outputs": [
        {
          "output_type": "stream",
          "text": [
            "<class 'pandas.core.frame.DataFrame'>\n",
            "RangeIndex: 163 entries, 0 to 162\n",
            "Data columns (total 8 columns):\n",
            "Case              163 non-null object\n",
            "Age               163 non-null object\n",
            "Gender            163 non-null object\n",
            "Nationality       163 non-null object\n",
            "Status            163 non-null object\n",
            "Confirmed Date    163 non-null object\n",
            "Recovered Date    163 non-null object\n",
            "Deceased          163 non-null object\n",
            "dtypes: object(8)\n",
            "memory usage: 10.3+ KB\n"
          ],
          "name": "stdout"
        }
      ]
    },
    {
      "cell_type": "code",
      "metadata": {
        "id": "b_hlBochO55L",
        "colab_type": "code",
        "colab": {}
      },
      "source": [
        "import matplotlib.pyplot as plt\n",
        "%matplotlib inline"
      ],
      "execution_count": 0,
      "outputs": []
    },
    {
      "cell_type": "code",
      "metadata": {
        "id": "RF_ikieEO84q",
        "colab_type": "code",
        "colab": {
          "base_uri": "https://localhost:8080/",
          "height": 1000
        },
        "outputId": "7025a07d-bfca-4d28-9506-9aaaae6c5679"
      },
      "source": [
        "location_group = dftable.groupby(['Case'])['Age'].count().reset_index()\n",
        "\n",
        "location_average = dftable.groupby(['Recovered Date'])['Deceased'].count().reset_index()\n",
        "\n",
        "\n",
        "display(location_group, round(location_average, 2))"
      ],
      "execution_count": 96,
      "outputs": [
        {
          "output_type": "display_data",
          "data": {
            "text/html": [
              "<div>\n",
              "<style scoped>\n",
              "    .dataframe tbody tr th:only-of-type {\n",
              "        vertical-align: middle;\n",
              "    }\n",
              "\n",
              "    .dataframe tbody tr th {\n",
              "        vertical-align: top;\n",
              "    }\n",
              "\n",
              "    .dataframe thead th {\n",
              "        text-align: right;\n",
              "    }\n",
              "</style>\n",
              "<table border=\"1\" class=\"dataframe\">\n",
              "  <thead>\n",
              "    <tr style=\"text-align: right;\">\n",
              "      <th></th>\n",
              "      <th>Case</th>\n",
              "      <th>Age</th>\n",
              "    </tr>\n",
              "  </thead>\n",
              "  <tbody>\n",
              "    <tr>\n",
              "      <th>0</th>\n",
              "      <td>1</td>\n",
              "      <td>1</td>\n",
              "    </tr>\n",
              "    <tr>\n",
              "      <th>1</th>\n",
              "      <td>10</td>\n",
              "      <td>1</td>\n",
              "    </tr>\n",
              "    <tr>\n",
              "      <th>2</th>\n",
              "      <td>1006</td>\n",
              "      <td>1</td>\n",
              "    </tr>\n",
              "    <tr>\n",
              "      <th>3</th>\n",
              "      <td>101</td>\n",
              "      <td>1</td>\n",
              "    </tr>\n",
              "    <tr>\n",
              "      <th>4</th>\n",
              "      <td>1031</td>\n",
              "      <td>1</td>\n",
              "    </tr>\n",
              "    <tr>\n",
              "      <th>...</th>\n",
              "      <td>...</td>\n",
              "      <td>...</td>\n",
              "    </tr>\n",
              "    <tr>\n",
              "      <th>158</th>\n",
              "      <td>95</td>\n",
              "      <td>1</td>\n",
              "    </tr>\n",
              "    <tr>\n",
              "      <th>159</th>\n",
              "      <td>96</td>\n",
              "      <td>1</td>\n",
              "    </tr>\n",
              "    <tr>\n",
              "      <th>160</th>\n",
              "      <td>97</td>\n",
              "      <td>1</td>\n",
              "    </tr>\n",
              "    <tr>\n",
              "      <th>161</th>\n",
              "      <td>98</td>\n",
              "      <td>1</td>\n",
              "    </tr>\n",
              "    <tr>\n",
              "      <th>162</th>\n",
              "      <td>99</td>\n",
              "      <td>1</td>\n",
              "    </tr>\n",
              "  </tbody>\n",
              "</table>\n",
              "<p>163 rows × 2 columns</p>\n",
              "</div>"
            ],
            "text/plain": [
              "     Case  Age\n",
              "0       1    1\n",
              "1      10    1\n",
              "2    1006    1\n",
              "3     101    1\n",
              "4    1031    1\n",
              "..    ...  ...\n",
              "158    95    1\n",
              "159    96    1\n",
              "160    97    1\n",
              "161    98    1\n",
              "162    99    1\n",
              "\n",
              "[163 rows x 2 columns]"
            ]
          },
          "metadata": {
            "tags": []
          }
        },
        {
          "output_type": "display_data",
          "data": {
            "text/html": [
              "<div>\n",
              "<style scoped>\n",
              "    .dataframe tbody tr th:only-of-type {\n",
              "        vertical-align: middle;\n",
              "    }\n",
              "\n",
              "    .dataframe tbody tr th {\n",
              "        vertical-align: top;\n",
              "    }\n",
              "\n",
              "    .dataframe thead th {\n",
              "        text-align: right;\n",
              "    }\n",
              "</style>\n",
              "<table border=\"1\" class=\"dataframe\">\n",
              "  <thead>\n",
              "    <tr style=\"text-align: right;\">\n",
              "      <th></th>\n",
              "      <th>Recovered Date</th>\n",
              "      <th>Deceased</th>\n",
              "    </tr>\n",
              "  </thead>\n",
              "  <tbody>\n",
              "    <tr>\n",
              "      <th>0</th>\n",
              "      <td>-</td>\n",
              "      <td>121</td>\n",
              "    </tr>\n",
              "    <tr>\n",
              "      <th>1</th>\n",
              "      <td>11th, Mar 2020</td>\n",
              "      <td>1</td>\n",
              "    </tr>\n",
              "    <tr>\n",
              "      <th>2</th>\n",
              "      <td>12th, Mar 2020</td>\n",
              "      <td>6</td>\n",
              "    </tr>\n",
              "    <tr>\n",
              "      <th>3</th>\n",
              "      <td>13th, Mar 2020</td>\n",
              "      <td>1</td>\n",
              "    </tr>\n",
              "    <tr>\n",
              "      <th>4</th>\n",
              "      <td>14th, Feb 2020</td>\n",
              "      <td>4</td>\n",
              "    </tr>\n",
              "    <tr>\n",
              "      <th>5</th>\n",
              "      <td>14th, Mar 2020</td>\n",
              "      <td>2</td>\n",
              "    </tr>\n",
              "    <tr>\n",
              "      <th>6</th>\n",
              "      <td>15th, Mar 2020</td>\n",
              "      <td>7</td>\n",
              "    </tr>\n",
              "    <tr>\n",
              "      <th>7</th>\n",
              "      <td>16th, Feb 2020</td>\n",
              "      <td>1</td>\n",
              "    </tr>\n",
              "    <tr>\n",
              "      <th>8</th>\n",
              "      <td>17th, Feb 2020</td>\n",
              "      <td>1</td>\n",
              "    </tr>\n",
              "    <tr>\n",
              "      <th>9</th>\n",
              "      <td>18th, Feb 2020</td>\n",
              "      <td>4</td>\n",
              "    </tr>\n",
              "    <tr>\n",
              "      <th>10</th>\n",
              "      <td>19th, Feb 2020</td>\n",
              "      <td>4</td>\n",
              "    </tr>\n",
              "    <tr>\n",
              "      <th>11</th>\n",
              "      <td>22nd, Feb 2020</td>\n",
              "      <td>1</td>\n",
              "    </tr>\n",
              "    <tr>\n",
              "      <th>12</th>\n",
              "      <td>24th, Feb 2020</td>\n",
              "      <td>2</td>\n",
              "    </tr>\n",
              "    <tr>\n",
              "      <th>13</th>\n",
              "      <td>27th, Feb 2020</td>\n",
              "      <td>2</td>\n",
              "    </tr>\n",
              "    <tr>\n",
              "      <th>14</th>\n",
              "      <td>4th, Feb 2020</td>\n",
              "      <td>1</td>\n",
              "    </tr>\n",
              "    <tr>\n",
              "      <th>15</th>\n",
              "      <td>6th, Mar 2020</td>\n",
              "      <td>1</td>\n",
              "    </tr>\n",
              "    <tr>\n",
              "      <th>16</th>\n",
              "      <td>8th, Feb 2020</td>\n",
              "      <td>1</td>\n",
              "    </tr>\n",
              "    <tr>\n",
              "      <th>17</th>\n",
              "      <td>8th, Mar 2020</td>\n",
              "      <td>1</td>\n",
              "    </tr>\n",
              "    <tr>\n",
              "      <th>18</th>\n",
              "      <td>9th, Feb 2020</td>\n",
              "      <td>1</td>\n",
              "    </tr>\n",
              "    <tr>\n",
              "      <th>19</th>\n",
              "      <td>9th, Mar 2020</td>\n",
              "      <td>1</td>\n",
              "    </tr>\n",
              "  </tbody>\n",
              "</table>\n",
              "</div>"
            ],
            "text/plain": [
              "    Recovered Date  Deceased\n",
              "0                -       121\n",
              "1   11th, Mar 2020         1\n",
              "2   12th, Mar 2020         6\n",
              "3   13th, Mar 2020         1\n",
              "4   14th, Feb 2020         4\n",
              "5   14th, Mar 2020         2\n",
              "6   15th, Mar 2020         7\n",
              "7   16th, Feb 2020         1\n",
              "8   17th, Feb 2020         1\n",
              "9   18th, Feb 2020         4\n",
              "10  19th, Feb 2020         4\n",
              "11  22nd, Feb 2020         1\n",
              "12  24th, Feb 2020         2\n",
              "13  27th, Feb 2020         2\n",
              "14   4th, Feb 2020         1\n",
              "15   6th, Mar 2020         1\n",
              "16   8th, Feb 2020         1\n",
              "17   8th, Mar 2020         1\n",
              "18   9th, Feb 2020         1\n",
              "19   9th, Mar 2020         1"
            ]
          },
          "metadata": {
            "tags": []
          }
        }
      ]
    },
    {
      "cell_type": "code",
      "metadata": {
        "id": "IwK00BVHPWVz",
        "colab_type": "code",
        "colab": {}
      },
      "source": [
        "location_group = location_group.sort_values('Case', ascending=False).reset_index(drop=True)\n",
        "location_group.Case\n",
        "\n",
        "plt.rcdefaults()\n",
        "fix,ax = plt.subplots()\n",
        "\n",
        "age = location_group.Age.tolist()\n",
        "y_pos = np.arange(len(age))\n",
        "case = location_group.Case.tolist()\n",
        "\n",
        "ax.bar(y_pos,case, align='center', alpha=0.5)\n",
        "ax.set_yticks(y_pos)\n",
        "ax.set_yticklabels(age)\n",
        "ax.invert_yaxis() \n",
        "ax.set_xlabel('Number of Cases')\n",
        "ax.set_ylabel('Age')\n",
        "ax.set_title('\\n\\n Number of Case and Age \\n\\n')\n",
        "\n",
        "plt.show()"
      ],
      "execution_count": 0,
      "outputs": []
    },
    {
      "cell_type": "code",
      "metadata": {
        "id": "x4Oxfh_4XlGJ",
        "colab_type": "code",
        "colab": {}
      },
      "source": [
        ""
      ],
      "execution_count": 0,
      "outputs": []
    }
  ]
}